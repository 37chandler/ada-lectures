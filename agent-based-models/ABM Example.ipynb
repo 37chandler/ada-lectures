{
 "cells": [
  {
   "cell_type": "code",
   "execution_count": 1,
   "metadata": {
    "collapsed": true
   },
   "outputs": [],
   "source": [
    "%matplotlib inline\n",
    "\n",
    "import matplotlib.pyplot as plt\n",
    "import itertools\n",
    "import random\n",
    "import copy\n",
    "from pprint import pprint"
   ]
  },
  {
   "cell_type": "code",
   "execution_count": 4,
   "metadata": {
    "collapsed": false
   },
   "outputs": [
    {
     "data": {
      "text/plain": [
       "[(0, 0),\n",
       " (0, 1),\n",
       " (0, 2),\n",
       " (1, 0),\n",
       " (1, 1),\n",
       " (1, 2),\n",
       " (2, 0),\n",
       " (2, 1),\n",
       " (2, 2),\n",
       " (3, 0),\n",
       " (3, 1),\n",
       " (3, 2),\n",
       " (4, 0),\n",
       " (4, 1),\n",
       " (4, 2)]"
      ]
     },
     "execution_count": 4,
     "metadata": {},
     "output_type": "execute_result"
    }
   ],
   "source": [
    "list(itertools.product(range(5),range(3)))"
   ]
  },
  {
   "cell_type": "code",
   "execution_count": 18,
   "metadata": {
    "collapsed": false
   },
   "outputs": [
    {
     "data": {
      "text/plain": [
       "list"
      ]
     },
     "execution_count": 18,
     "metadata": {},
     "output_type": "execute_result"
    }
   ],
   "source": [
    "x = list(range(20))\n",
    "x[:11:3]\n"
   ]
  },
  {
   "cell_type": "code",
   "execution_count": 19,
   "metadata": {
    "collapsed": false
   },
   "outputs": [],
   "source": [
    "class Schelling:\n",
    "    def __init__(self, width, height, empty_ratio, similarity_threshold, n_iterations, races = 2):\n",
    "        self.width = width \n",
    "        self.height = height \n",
    "        self.races = races\n",
    "        self.empty_ratio = empty_ratio\n",
    "        self.similarity_threshold = similarity_threshold\n",
    "        self.n_iterations = n_iterations\n",
    "        self.empty_houses = []\n",
    "        self.agents = {}\n",
    "        \n",
    "    def populate(self) :\n",
    "        # product returns all combos of range(width) with range(height)--it's our grid.\n",
    "        self.all_houses = list(itertools.product(range(self.width),range(self.height)))\n",
    "        \n",
    "        # shuffle the houses so that they are filled randomly.\n",
    "        random.shuffle(self.all_houses)\n",
    "\n",
    "        self.n_empty = int( self.empty_ratio * len(self.all_houses) )\n",
    "        self.empty_houses = self.all_houses[:self.n_empty] #  n_empty are designated as empty.\n",
    "\n",
    "        self.remaining_houses = self.all_houses[self.n_empty:]\n",
    "        houses_by_race = [self.remaining_houses[i::self.races] for i in range(self.races)]\n",
    "        # houses_by_race is a list of agents (denoted by the x,y pairs) with a list\n",
    "        # for each race. This clever use of step-size in slice is a nice shortcut.\n",
    "        \n",
    "        self.agents = dict()\n",
    "\n",
    "        for i in range(self.races) :\n",
    "            for agent in houses_by_race[i] :\n",
    "                self.agents[agent] = i+1 # race is marked by the number i+1\n",
    "        \n",
    "        # at this point self.agents is a dictionary where the key is an x,y\n",
    "        # pair and the value is a list with value are i+1.\n",
    "                \n",
    "    def is_unsatisfied(self, x, y) :\n",
    "        race = self.agents[(x,y)]\n",
    "        count_similar = 0\n",
    "        count_different = 0\n",
    "\n",
    "        # No easy way that I could think of to count up the similar neighbors.\n",
    "        # Let's brute force it.\n",
    "        if x > 0 and y > 0 and (x-1, y-1) not in self.empty_houses:\n",
    "            if self.agents[(x-1, y-1)] == race:\n",
    "                count_similar += 1\n",
    "            else:\n",
    "                count_different += 1\n",
    "        if y > 0 and (x,y-1) not in self.empty_houses:\n",
    "            if self.agents[(x,y-1)] == race:\n",
    "                count_similar += 1\n",
    "            else:\n",
    "                count_different += 1\n",
    "        if x < (self.width-1) and y > 0 and (x+1,y-1) not in self.empty_houses:\n",
    "            if self.agents[(x+1,y-1)] == race:\n",
    "                count_similar += 1\n",
    "            else:\n",
    "                count_different += 1\n",
    "        if x > 0 and (x-1,y) not in self.empty_houses:\n",
    "            if self.agents[(x-1,y)] == race:\n",
    "                count_similar += 1\n",
    "            else:\n",
    "                count_different += 1        \n",
    "        if x < (self.width-1) and (x+1,y) not in self.empty_houses:\n",
    "            if self.agents[(x+1,y)] == race:\n",
    "                count_similar += 1\n",
    "            else:\n",
    "                count_different += 1\n",
    "        if x > 0 and y < (self.height-1) and (x-1,y+1) not in self.empty_houses:\n",
    "            if self.agents[(x-1,y+1)] == race:\n",
    "                count_similar += 1\n",
    "            else:\n",
    "                count_different += 1        \n",
    "        if x > 0 and y < (self.height-1) and (x,y+1) not in self.empty_houses:\n",
    "            if self.agents[(x,y+1)] == race:\n",
    "                count_similar += 1\n",
    "            else:\n",
    "                count_different += 1        \n",
    "        if x < (self.width-1) and y < (self.height-1) and (x+1,y+1) not in self.empty_houses:\n",
    "            if self.agents[(x+1,y+1)] == race:\n",
    "                count_similar += 1\n",
    "            else:\n",
    "                count_different += 1\n",
    "\n",
    "        if (count_similar+count_different) == 0:\n",
    "            return False\n",
    "        else:\n",
    "            return float(count_similar)/(count_similar+count_different) < self.similarity_threshold\n",
    "        \n",
    "    def update(self):\n",
    "        for i in range(self.n_iterations):\n",
    "            # nested structures require \"deepcopy\" to make an actual copy, \n",
    "            # as opposed to just making a reference.\n",
    "            self.old_agents = copy.deepcopy(self.agents)\n",
    "            n_changes = 0\n",
    "            for agent in self.old_agents:\n",
    "                if self.is_unsatisfied(agent[0], agent[1]): # agent[0] is x, agent[1] is y\n",
    "                    agent_race = self.agents[agent]\n",
    "                    empty_house = random.choice(self.empty_houses)\n",
    "                    self.agents[empty_house] = agent_race\n",
    "                    del self.agents[agent] # empty out the spot for this agent.\n",
    "                    self.empty_houses.remove(empty_house) # mark their new spot as not-empty\n",
    "                    self.empty_houses.append(agent) # and put the agent there.\n",
    "                    n_changes += 1\n",
    "            print(n_changes)\n",
    "            if n_changes == 0:\n",
    "                break\n",
    "\n",
    "    def move_to_empty(self, x, y):\n",
    "        race = self.agents[(x,y)]\n",
    "        empty_house = random.choice(self.empty_houses)\n",
    "        self.updated_agents[empty_house] = race\n",
    "        del self.updated_agents[(x, y)]\n",
    "        self.empty_houses.remove(empty_house)\n",
    "        self.empty_houses.append((x, y))\n",
    "\n",
    "    def plot(self, title, file_name=None):\n",
    "        fig, ax = plt.subplots()\n",
    "        #If you want to run the simulation with more than 7 colors, you should set agent_colors accordingly\n",
    "        agent_colors = {1:'b', 2:'r', 3:'g', 4:'c', 5:'m', 6:'y', 7:'k'}\n",
    "        for agent in self.agents:\n",
    "            ax.scatter(agent[0]+0.5, agent[1]+0.5, color=agent_colors[self.agents[agent]])\n",
    "\n",
    "        ax.set_title(title, fontsize=10, fontweight='bold')\n",
    "        ax.set_xlim([0, self.width])\n",
    "        ax.set_ylim([0, self.height])\n",
    "        ax.set_xticks([])\n",
    "        ax.set_yticks([])\n",
    "        if file_name :\n",
    "            plt.savefig(file_name)\n",
    "        else :\n",
    "            plt.show()\n",
    "        \n",
    "    def calculate_similarity(self):\n",
    "        ''' used to measure the overall similarity of a system. This is useful when we \n",
    "            are trying to study the impact of things like empty space or similarty_threshold. '''\n",
    "        similarity = []\n",
    "        for agent in self.agents:\n",
    "            count_similar = 0\n",
    "            count_different = 0\n",
    "            x = agent[0]\n",
    "            y = agent[1]\n",
    "            race = self.agents[(x,y)]\n",
    "            if x > 0 and y > 0 and (x-1, y-1) not in self.empty_houses:\n",
    "                if self.agents[(x-1, y-1)] == race:\n",
    "                    count_similar += 1\n",
    "                else:\n",
    "                    count_different += 1\n",
    "            if y > 0 and (x,y-1) not in self.empty_houses:\n",
    "                if self.agents[(x,y-1)] == race:\n",
    "                    count_similar += 1\n",
    "                else:\n",
    "                    count_different += 1\n",
    "            if x < (self.width-1) and y > 0 and (x+1,y-1) not in self.empty_houses:\n",
    "                if self.agents[(x+1,y-1)] == race:\n",
    "                    count_similar += 1\n",
    "                else:\n",
    "                    count_different += 1\n",
    "            if x > 0 and (x-1,y) not in self.empty_houses:\n",
    "                if self.agents[(x-1,y)] == race:\n",
    "                    count_similar += 1\n",
    "                else:\n",
    "                    count_different += 1        \n",
    "            if x < (self.width-1) and (x+1,y) not in self.empty_houses:\n",
    "                if self.agents[(x+1,y)] == race:\n",
    "                    count_similar += 1\n",
    "                else:\n",
    "                    count_different += 1\n",
    "            if x > 0 and y < (self.height-1) and (x-1,y+1) not in self.empty_houses:\n",
    "                if self.agents[(x-1,y+1)] == race:\n",
    "                    count_similar += 1\n",
    "                else:\n",
    "                    count_different += 1        \n",
    "            if x > 0 and y < (self.height-1) and (x,y+1) not in self.empty_houses:\n",
    "                if self.agents[(x,y+1)] == race:\n",
    "                    count_similar += 1\n",
    "                else:\n",
    "                    count_different += 1        \n",
    "            if x < (self.width-1) and y < (self.height-1) and (x+1,y+1) not in self.empty_houses:\n",
    "                if self.agents[(x+1,y+1)] == race:\n",
    "                    count_similar += 1\n",
    "                else:\n",
    "                    count_different += 1\n",
    "            try:\n",
    "                similarity.append(float(count_similar)/(count_similar+count_different))\n",
    "            except:\n",
    "                similarity.append(1)\n",
    "        return sum(similarity)/len(similarity)"
   ]
  },
  {
   "cell_type": "code",
   "execution_count": 20,
   "metadata": {
    "collapsed": false
   },
   "outputs": [
    {
     "name": "stdout",
     "output_type": "stream",
     "text": [
      "302\n",
      "153\n",
      "103\n",
      "48\n",
      "18\n",
      "7\n",
      "5\n",
      "1\n",
      "1\n",
      "1\n",
      "1\n",
      "0\n"
     ]
    },
    {
     "name": "stderr",
     "output_type": "stream",
     "text": [
      "C:\\Anaconda3\\lib\\site-packages\\matplotlib\\collections.py:590: FutureWarning: elementwise comparison failed; returning scalar instead, but in the future will perform elementwise comparison\n",
      "  if self._edgecolors == str('face'):\n"
     ]
    },
    {
     "data": {
      "image/png": "[encoded data removed]",
      "text/plain": [
       "<matplotlib.figure.Figure at 0x29197e96c18>"
      ]
     },
     "metadata": {},
     "output_type": "display_data"
    },
    {
     "data": {
      "image/png": "[encoded data removed]",
      "text/plain": [
       "<matplotlib.figure.Figure at 0x2919a8ee198>"
      ]
     },
     "metadata": {},
     "output_type": "display_data"
    }
   ],
   "source": [
    "# Let's do a version with just 2 colors\n",
    "schelling_2 = Schelling(50, 50, # grid size\n",
    "                        0.3, # empty ratio \n",
    "                        0.3, # similarity threshold\n",
    "                        500, # max number of iterations used in .update \n",
    "                        2) # number of races\n",
    "schelling_2.populate()\n",
    "schelling_2.plot('Schelling Model with 2 colors, 0.3 Threshold: Initial State',\"schelling_thresh3_race2_start.png\")\n",
    "\n",
    "# Now let's call update and plot the results.\n",
    "schelling_2.update()\n",
    "schelling_2.plot(\"Schelling Model with 2 colors: Final State\",\"schelling_thresh3_race2_final.png\")"
   ]
  },
  {
   "cell_type": "code",
   "execution_count": 21,
   "metadata": {
    "collapsed": false
   },
   "outputs": [
    {
     "name": "stdout",
     "output_type": "stream",
     "text": [
      "1320\n",
      "1039\n",
      "806\n",
      "646\n",
      "536\n",
      "477\n",
      "386\n",
      "332\n",
      "291\n",
      "244\n",
      "199\n",
      "161\n",
      "161\n",
      "129\n",
      "101\n",
      "87\n",
      "62\n",
      "53\n",
      "46\n",
      "36\n",
      "25\n",
      "19\n",
      "15\n",
      "19\n",
      "19\n",
      "17\n",
      "8\n",
      "4\n",
      "5\n",
      "1\n",
      "1\n",
      "1\n",
      "0\n"
     ]
    },
    {
     "name": "stderr",
     "output_type": "stream",
     "text": [
      "C:\\Anaconda3\\lib\\site-packages\\matplotlib\\collections.py:590: FutureWarning: elementwise comparison failed; returning scalar instead, but in the future will perform elementwise comparison\n",
      "  if self._edgecolors == str('face'):\n"
     ]
    },
    {
     "data": {
      "image/png": "[encoded data removed]",
      "text/plain": [
       "<matplotlib.figure.Figure at 0x29197e96be0>"
      ]
     },
     "metadata": {},
     "output_type": "display_data"
    },
    {
     "data": {
      "image/png": "[encoded data removed]",
      "text/plain": [
       "<matplotlib.figure.Figure at 0x2919aea94a8>"
      ]
     },
     "metadata": {},
     "output_type": "display_data"
    }
   ],
   "source": [
    "# Let's do a version with just 2 colors\n",
    "schelling_2 = Schelling(50, 50, # grid size\n",
    "                        0.3, # empty ratio \n",
    "                        0.7, # similarity threshold\n",
    "                        800, # max number of iterations used in .update \n",
    "                        2) # number of racesn\n",
    "schelling_2.populate()\n",
    "schelling_2.plot('Schelling Model with 2 colors, 0.7 Threshold: Initial State',\"schelling_thresh7_race2_start.png\")\n",
    "\n",
    "# Now let's call update and plot the results.\n",
    "schelling_2.update()\n",
    "schelling_2.plot(\"Schelling Model with 2 colors: Final State\",\"schelling_thresh7_race2_final.png\")"
   ]
  },
  {
   "cell_type": "code",
   "execution_count": 22,
   "metadata": {
    "collapsed": false
   },
   "outputs": [
    {
     "data": {
      "text/plain": [
       "0.9943809523809519"
      ]
     },
     "execution_count": 22,
     "metadata": {},
     "output_type": "execute_result"
    }
   ],
   "source": [
    "schelling_2.calculate_similarity()"
   ]
  },
  {
   "cell_type": "code",
   "execution_count": null,
   "metadata": {
    "collapsed": false
   },
   "outputs": [],
   "source": [
    "schelling_3 = Schelling(50, 50, 0.2, 0.6, 500, 3)\n",
    "schelling_3.populate()\n",
    "schelling_3.plot('Schelling Model with 3 colors: Initial State')"
   ]
  },
  {
   "cell_type": "code",
   "execution_count": null,
   "metadata": {
    "collapsed": false
   },
   "outputs": [],
   "source": [
    "schelling_3.update()\n",
    "\n",
    "schelling_3.plot('Schelling Model with 3 colors: Final State') #, 'schelling_3_final.png')"
   ]
  },
  {
   "cell_type": "code",
   "execution_count": null,
   "metadata": {
    "collapsed": false
   },
   "outputs": [],
   "source": [
    "similarity_threshold_ratio = {}\n",
    "for i in [0, 0.1, 0.2, 0.3, 0.4, 0.5, 0.6, 0.7,0.8]:\n",
    "    schelling = Schelling(50, 50, 0.3, i, 500, 2)\n",
    "    schelling.populate()\n",
    "    schelling.update()\n",
    "    similarity_threshold_ratio[i] = schelling.calculate_similarity()"
   ]
  },
  {
   "cell_type": "code",
   "execution_count": null,
   "metadata": {
    "collapsed": false
   },
   "outputs": [],
   "source": [
    "fig, ax = plt.subplots()\n",
    "plt.plot(list(similarity_threshold_ratio.keys()), list(similarity_threshold_ratio.values()), 'ro')\n",
    "ax.set_title('Similarity Threshold vs. Mean Similarity Ratio', fontsize=15, fontweight='bold')\n",
    "ax.set_xlim([0, 1])\n",
    "ax.set_ylim([0, 1.1])\n",
    "ax.set_xlabel(\"Similarity Threshold\")\n",
    "ax.set_ylabel(\"Mean Similarity Ratio\")\n",
    "#plt.show()\n",
    "plt.savefig('schelling_segregation_measure.png')"
   ]
  }
 ],
 "metadata": {
  "kernelspec": {
   "display_name": "Python 3",
   "language": "python",
   "name": "python3"
  },
  "language_info": {
   "codemirror_mode": {
    "name": "ipython",
    "version": 3
   },
   "file_extension": ".py",
   "mimetype": "text/x-python",
   "name": "python",
   "nbconvert_exporter": "python",
   "pygments_lexer": "ipython3",
   "version": "3.5.0"
  }
 },
 "nbformat": 4,
 "nbformat_minor": 0
}
