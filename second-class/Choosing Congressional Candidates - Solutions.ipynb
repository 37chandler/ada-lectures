{
 "cells": [
  {
   "cell_type": "markdown",
   "metadata": {},
   "source": [
    "## Choosing Congressional Candidates\n",
    "\n",
    "We're going to do some work with congressional candidates this semester. One thing we'll need is some work building up the websites (and other covariates) for the candidates. Let's divide and conquer."
   ]
  },
  {
   "cell_type": "code",
   "execution_count": null,
   "metadata": {
    "collapsed": true
   },
   "outputs": [],
   "source": [
    "# best practice is to do all imports at the beginning. \n",
    "from random import sample, choices, seed\n",
    "from collections import Counter\n",
    "\n",
    "file_list_of_districts = \"district_list.txt\"\n",
    "output_file_name = \"district_assignments.txt\"\n",
    "\n",
    "class_members = [\"alex\",\"anna\",\"tony\",\"john\",\n",
    "                 \"kailey\",\"kaixuan\",\"michelle\",\n",
    "                 \"natalie\",\"patrick\",\"bobby\",\n",
    "                 \"thomas\",\"will\"]"
   ]
  },
  {
   "cell_type": "markdown",
   "metadata": {},
   "source": [
    "Let's read this into a list. Note the use of `next` in the cell below--let's talk about what it does. "
   ]
  },
  {
   "cell_type": "code",
   "execution_count": null,
   "metadata": {
    "collapsed": true
   },
   "outputs": [],
   "source": [
    "district_list = list()\n",
    "state_list = list()\n",
    "\n",
    "with open(file_list_of_districts) as f :\n",
    "    next(f)\n",
    "    for item in f :\n",
    "        district_list.append(item.strip()) # Question: what does strip do?\n",
    "        state_list.append(item[:2])"
   ]
  },
  {
   "cell_type": "markdown",
   "metadata": {},
   "source": [
    "The `Counter` collection gives us an easy way to sum up items in a dictionary. "
   ]
  },
  {
   "cell_type": "code",
   "execution_count": null,
   "metadata": {
    "collapsed": true
   },
   "outputs": [],
   "source": [
    "state_count = Counter(state_list)"
   ]
  },
  {
   "cell_type": "code",
   "execution_count": null,
   "metadata": {
    "collapsed": false
   },
   "outputs": [],
   "source": [
    "state_count.most_common(10)"
   ]
  },
  {
   "cell_type": "markdown",
   "metadata": {},
   "source": [
    "Now, we want to give everyone the same number (roughly) of representatives. Let's figure out how many there are. Replace the ?? with code to get the answer."
   ]
  },
  {
   "cell_type": "code",
   "execution_count": null,
   "metadata": {
    "collapsed": false
   },
   "outputs": [],
   "source": [
    "num_students = len(class_members)\n",
    "num_districts = len(district_list)\n",
    "\n",
    "num_per_member = num_districts/num_students"
   ]
  },
  {
   "cell_type": "markdown",
   "metadata": {},
   "source": [
    "Now that we've got that, let's look at what `sample` does. "
   ]
  },
  {
   "cell_type": "code",
   "execution_count": null,
   "metadata": {
    "collapsed": false
   },
   "outputs": [],
   "source": [
    "sample(k=round(num_per_member),population=district_list)"
   ]
  },
  {
   "cell_type": "markdown",
   "metadata": {},
   "source": [
    "---\n",
    "\n",
    "There are a few different ways we could allocate districts to the members of our class. I'm going to illustrate two of them, just so you can compare and contrast. Both ways just sample our class with replacement, one building it up from scratch, the other using the `choice` function. \n",
    "\n",
    "### First Assignment Approach"
   ]
  },
  {
   "cell_type": "code",
   "execution_count": null,
   "metadata": {
    "collapsed": false
   },
   "outputs": [],
   "source": [
    "# Setting the random seed ensures we get the same output\n",
    "seed(20180903)"
   ]
  },
  {
   "cell_type": "code",
   "execution_count": null,
   "metadata": {
    "collapsed": false
   },
   "outputs": [],
   "source": [
    "district_assignment = [0] * len(district_list) # make an empty list of the approprite length.\n",
    "\n",
    "for idx in range(len(district_assignment)) :\n",
    "    district_assignment[idx] = sample(k=1,population=class_members)[0] # sample returns a list of length k"
   ]
  },
  {
   "cell_type": "markdown",
   "metadata": {},
   "source": [
    "Now we can use `zip` to merge the two. "
   ]
  },
  {
   "cell_type": "code",
   "execution_count": null,
   "metadata": {
    "collapsed": false
   },
   "outputs": [],
   "source": [
    "assignments = dict(zip(district_list,district_assignment))"
   ]
  },
  {
   "cell_type": "markdown",
   "metadata": {},
   "source": [
    "Let's look at the first 10 items in this dictionary. We'll use our `enumerate` trick. "
   ]
  },
  {
   "cell_type": "code",
   "execution_count": null,
   "metadata": {
    "collapsed": false
   },
   "outputs": [],
   "source": [
    "for idx, dist in enumerate(assignments) :\n",
    "    print(\"\".join([assignments[dist], \n",
    "                  \" will get information for \",\n",
    "                  dist]))\n",
    "    \n",
    "    if idx == 9 :\n",
    "        break"
   ]
  },
  {
   "cell_type": "markdown",
   "metadata": {},
   "source": [
    "And now we'll just write out the results. "
   ]
  },
  {
   "cell_type": "code",
   "execution_count": null,
   "metadata": {
    "collapsed": true
   },
   "outputs": [],
   "source": [
    "with open(output_file_name,'w') as ofile : # note 'w' flag\n",
    "    ofile.write(\"\\t\".join([\"district\",\"class_member\"]) + \"\\n\")\n",
    "    \n",
    "    for dist, person in assignments.items() :\n",
    "        ofile.write(\"\\t\".join([dist,person]) + \"\\n\")\n",
    "        "
   ]
  },
  {
   "cell_type": "markdown",
   "metadata": {},
   "source": [
    "### Second Assignment Approach\n",
    "\n",
    "We can do do the same thing using `choice` and save some typing. I'll keep the variable names the same so you can trace what's going on. "
   ]
  },
  {
   "cell_type": "code",
   "execution_count": null,
   "metadata": {
    "collapsed": true
   },
   "outputs": [],
   "source": [
    "district_assignment = choices(k=len(district_list),population=class_members)\n",
    "\n",
    "assignments = dict(zip(district_list,district_assignment))\n",
    "\n",
    "with open(output_file_name,'w') as ofile : # note 'w' flag\n",
    "    ofile.write(\"\\t\".join([\"district\",\"class_member\"]) + \"\\n\")\n",
    "    \n",
    "    for dist, person in assignments.items() :\n",
    "        ofile.write(\"\\t\".join([dist,person]) + \"\\n\")"
   ]
  },
  {
   "cell_type": "markdown",
   "metadata": {},
   "source": [
    "Let's use `Counter` to see how many districts each of us got. "
   ]
  },
  {
   "cell_type": "code",
   "execution_count": null,
   "metadata": {
    "collapsed": false
   },
   "outputs": [],
   "source": [
    "Counter(district_assignment)"
   ]
  },
  {
   "cell_type": "markdown",
   "metadata": {},
   "source": [
    "Somewhat clumpy, but not the end of the world. If you've got some free time, try to figure out how you'd randomly assign districts to people with everyone having roughly the same number of people."
   ]
  }
 ],
 "metadata": {
  "kernelspec": {
   "display_name": "Python 3",
   "language": "python",
   "name": "python3"
  },
  "language_info": {
   "codemirror_mode": {
    "name": "ipython",
    "version": 3
   },
   "file_extension": ".py",
   "mimetype": "text/x-python",
   "name": "python",
   "nbconvert_exporter": "python",
   "pygments_lexer": "ipython3",
   "version": "3.6.6"
  }
 },
 "nbformat": 4,
 "nbformat_minor": 2
}
