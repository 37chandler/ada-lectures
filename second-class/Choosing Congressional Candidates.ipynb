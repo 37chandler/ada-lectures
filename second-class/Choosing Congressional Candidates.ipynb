{
 "cells": [
  {
   "cell_type": "markdown",
   "metadata": {},
   "source": [
    "## Choosing Congressional Candidates\n",
    "\n",
    "We're going to do some work with congressional candidates this semester. One thing we'll need is some work building up the websites (and other covariates) for the candidates. Let's divide and conquer."
   ]
  },
  {
   "cell_type": "code",
   "execution_count": 1,
   "metadata": {
    "collapsed": true
   },
   "outputs": [],
   "source": [
    "# best practice is to do all imports at the beginning. \n",
    "from random import sample, choices, seed\n",
    "from collections import Counter\n",
    "\n",
    "file_list_of_districts = \"district_list.txt\"\n",
    "output_file_name = \"district_assignments.txt\"\n",
    "\n",
    "class_members = [\"alex\",\"anna\",\"tony\",\"john\",\n",
    "                 \"kailey\",\"kaixuan\",\"michelle\",\n",
    "                 \"natalie\",\"patrick\",\"bobby\",\n",
    "                 \"thomas\",\"will\"]"
   ]
  },
  {
   "cell_type": "markdown",
   "metadata": {},
   "source": [
    "Let's read this into a list. Note the use of `next` in the cell below--let's talk about what it does. "
   ]
  },
  {
   "cell_type": "code",
   "execution_count": 2,
   "metadata": {
    "collapsed": true
   },
   "outputs": [],
   "source": [
    "district_list = list()\n",
    "state_list = list()\n",
    "\n",
    "with open(file_list_of_districts) as f :\n",
    "    next(f)`\n",
    "    for item in f :\n",
    "        district_list.append(item.strip()) # Question: what does strip do?\n",
    "        state_list.append(item[:2])        # Question: what is happening with \"item[:2]\"?"
   ]
  },
  {
   "cell_type": "markdown",
   "metadata": {},
   "source": [
    "The `Counter` collection gives us an easy way to sum up items in a dictionary. "
   ]
  },
  {
   "cell_type": "code",
   "execution_count": 3,
   "metadata": {
    "collapsed": true
   },
   "outputs": [],
   "source": [
    "state_count = Counter(state_list)"
   ]
  },
  {
   "cell_type": "code",
   "execution_count": 4,
   "metadata": {
    "collapsed": false
   },
   "outputs": [
    {
     "data": {
      "text/plain": [
       "[('CA', 53),\n",
       " ('TX', 36),\n",
       " ('FL', 27),\n",
       " ('NY', 27),\n",
       " ('PA', 18),\n",
       " ('IL', 18),\n",
       " ('OH', 16),\n",
       " ('GA', 14),\n",
       " ('MI', 14),\n",
       " ('NC', 13)]"
      ]
     },
     "execution_count": 4,
     "metadata": {},
     "output_type": "execute_result"
    }
   ],
   "source": [
    "state_count.most_common(10)"
   ]
  },
  {
   "cell_type": "markdown",
   "metadata": {},
   "source": [
    "Now, we want to give everyone the same number (roughly) of representatives. Let's figure out how many there are. Replace the ?? with code to get the answer."
   ]
  },
  {
   "cell_type": "code",
   "execution_count": null,
   "metadata": {
    "collapsed": false
   },
   "outputs": [],
   "source": [
    "num_students = len(class_members)\n",
    "num_districts = ??\n",
    "\n",
    "num_per_member = ??"
   ]
  },
  {
   "cell_type": "markdown",
   "metadata": {},
   "source": [
    "Now that we've got that, let's look at what `sample` does. "
   ]
  },
  {
   "cell_type": "code",
   "execution_count": null,
   "metadata": {
    "collapsed": false
   },
   "outputs": [],
   "source": [
    "sample(k=round(num_per_member),population=district_list)"
   ]
  },
  {
   "cell_type": "markdown",
   "metadata": {},
   "source": [
    "---\n",
    "\n",
    "Now we'd like to allocate people to districts. Your goal is to come up with a list of people that you can associate with the districts so everyone knows which districts they have to pull. Here are some hints: \n",
    "\n",
    "* A dictionary is a good way to create pairs of objects. Note that the key has to be unique. \n",
    "* The function `choice` does sampling _with_ replacement."
   ]
  },
  {
   "cell_type": "code",
   "execution_count": null,
   "metadata": {
    "collapsed": true
   },
   "outputs": [],
   "source": [
    "# Here's a place for you to work. "
   ]
  },
  {
   "cell_type": "markdown",
   "metadata": {},
   "source": [
    "Once you get to this point, you write out your list for practice, though we'll use mine as the final assignments."
   ]
  }
 ],
 "metadata": {
  "kernelspec": {
   "display_name": "Python 3",
   "language": "python",
   "name": "python3"
  },
  "language_info": {
   "codemirror_mode": {
    "name": "ipython",
    "version": 3
   },
   "file_extension": ".py",
   "mimetype": "text/x-python",
   "name": "python",
   "nbconvert_exporter": "python",
   "pygments_lexer": "ipython3",
   "version": "3.6.6"
  }
 },
 "nbformat": 4,
 "nbformat_minor": 2
}
