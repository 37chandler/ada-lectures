{
 "cells": [
  {
   "cell_type": "markdown",
   "metadata": {},
   "source": [
    "## Quick Wedge Investigation\n",
    "\n",
    "Let's take a quick look at a Wedge file and also learn a little bit about data structures in Python.\n",
    "\n",
    "1. Manually open one of the Wedge zipped files, extract the file on the inside, and move it into the same folder as this notebook. *Don't use the one I use so we can compare notes.*\n",
    "\n",
    "1. Change the name of `input_file` down below. \n",
    "\n",
    "We'll go through this together in class on Tuesday, so you don't have to run it all now. Just run this notebook through the point where I've written \"Stop Here\". "
   ]
  },
  {
   "cell_type": "code",
   "execution_count": 1,
   "metadata": {
    "collapsed": true
   },
   "outputs": [],
   "source": [
    "input_file = \"transArchive_201307_201309.csv\""
   ]
  },
  {
   "cell_type": "markdown",
   "metadata": {},
   "source": [
    "Let's open the file and look at some rows. The easiest way to open a file in Python is with `read`, which operates on an open filehandle. Read allows you to pass a `size` argument so you don't have to read the whole file."
   ]
  },
  {
   "cell_type": "code",
   "execution_count": 2,
   "metadata": {
    "collapsed": false
   },
   "outputs": [
    {
     "data": {
      "text/plain": [
       "'\"datetime\",\"register_no\",\"emp_no\",\"trans_no\",\"upc\",\"description\",\"trans_type\",\"trans_subtype\",\"trans_status\",\"department\",\"quantity\",\"Scale\",\"cost\",\"unitPrice\",\"total\",\"regPrice\",\"altPrice\",\"tax\",\"taxexempt\",\"foodstamp\",\"wicable\",\"discount\",\"memDiscount\",\"discountable\",\"discounttype\",\"voided\",\"percentDiscount\",\"ItemQtty\",\"volDiscType\",\"volume\",\"VolSpecial\",\"mixMatch\",\"matched\",\"memType\",\"staff\",\"numflag\",\"itemstatus\",\"tenderstatus\",\"charflag\",\"varflag\",\"batchHeaderID\",\"local\",\"organic\",\"display\",\"receipt\",\"card_no\",\"store\",\"branch\",\"match_id\",\"trans_id\"\\n\"2013-07-01 07:18:31\",\"16\",\"54\",\"1\",\"0000000009506\",\"Offsite: Plain Croissant\",\"I\",\" \",\" \",\"17\",\"10\",\"0\",\"0.2100\",\"1.3900\",\"13.9000\",\"1.3900\",\"0.0000\",\"0\",\"0\",\"1\",\"0\",\"0.0000\",\"0.0000\",\"1\",\"0\",\"0\",NULL,\"10\",\"0\",\"0\",\"0.0000\",\"0\",\"0\",,NULL,\"1\",\"0\",\"0\",,\"0\",NULL,\"0\",\"0\",\" \",\"0\",\"50056\",\"32\",\"0\",\"0\",\"4\"\\n\"2013-07-01 07:18:42\",\"16\",\"54\",\"1\",\"0000000009515\",\"Offsite: White Burger Bun\",\"I\",\" \",\" \",\"17\",\"24\",\"0\",\"0.0000\",\"0.4000\",\"9.6000\",\"0.400'"
      ]
     },
     "execution_count": 2,
     "metadata": {},
     "output_type": "execute_result"
    }
   ],
   "source": [
    "my_file = open(input_file)\n",
    "my_file.read(1000)"
   ]
  },
  {
   "cell_type": "markdown",
   "metadata": {},
   "source": [
    "*Question*: What is `read` giving you here? \n",
    "\n",
    "It's best practice to close files after you open them."
   ]
  },
  {
   "cell_type": "code",
   "execution_count": 3,
   "metadata": {
    "collapsed": true
   },
   "outputs": [],
   "source": [
    "my_file.close()"
   ]
  },
  {
   "cell_type": "markdown",
   "metadata": {},
   "source": [
    "There's a much handier way to allow Python to remember to close the files for you, using `with`. "
   ]
  },
  {
   "cell_type": "code",
   "execution_count": 4,
   "metadata": {
    "collapsed": false
   },
   "outputs": [
    {
     "name": "stdout",
     "output_type": "stream",
     "text": [
      "\"datetime\",\"register_no\",\"emp_no\",\"trans_no\",\"upc\",\"description\",\"trans_type\",\"trans_subtype\",\"trans_status\",\"department\",\"quantity\",\"Scale\",\"cost\",\"unitPrice\",\"total\",\"regPrice\",\"altPrice\",\"tax\",\"taxexempt\",\"foodstamp\",\"wicable\",\"discount\",\"memDiscount\",\"discountable\",\"discounttype\",\"voided\",\"percentDiscount\",\"ItemQtty\",\"volDiscType\",\"volume\",\"VolSpecial\",\"mixMatch\",\"matched\",\"memType\",\"staff\",\"numflag\",\"itemstatus\",\"tenderstatus\",\"charflag\",\"varflag\",\"batchHeaderID\",\"local\",\"organic\",\"display\",\"receipt\",\"card_no\",\"store\",\"branch\",\"match_id\",\"trans_id\"\n",
      "\"2013-07-01 07:18:31\",\"16\",\"54\",\"1\",\"0000000009506\",\"Offsite: Plain Croissant\",\"I\",\" \",\" \",\"17\",\"10\",\"0\",\"0.2100\",\"1.3900\",\"13.9000\",\"1.3900\",\"0.0000\",\"0\",\"0\",\"1\",\"0\",\"0.0000\",\"0.0000\",\"1\",\"0\",\"0\",NULL,\"10\",\"0\",\"0\",\"0.0000\",\"0\",\"0\",,NULL,\"1\",\"0\",\"0\",,\"0\",NULL,\"0\",\"0\",\" \",\"0\",\"50056\",\"32\",\"0\",\"0\",\"4\"\n",
      "\"2013-07-01 07:18:42\",\"16\",\"54\",\"1\",\"0000000009515\",\"Offsite: White Burger Bun\",\"I\",\" \",\" \",\"17\",\"24\",\"0\",\"0.0000\",\"0.4000\",\"9.6000\",\"0.400\n"
     ]
    }
   ],
   "source": [
    "with open(input_file) as my_file :\n",
    "    print(my_file.read(1000))"
   ]
  },
  {
   "cell_type": "markdown",
   "metadata": {},
   "source": [
    "Notice the presence of `\\n` in the file. This is the newline character. The backslash tells Python not to just print an `n` but to do a newline instead. "
   ]
  },
  {
   "cell_type": "code",
   "execution_count": 5,
   "metadata": {
    "collapsed": false
   },
   "outputs": [
    {
     "name": "stdout",
     "output_type": "stream",
     "text": [
      "a\n",
      "\n",
      " \n",
      "\n",
      "s\n",
      "\n",
      "t\n",
      "\n",
      "r\n",
      "\n",
      "i\n",
      "\n",
      "n\n",
      "\n",
      "g\n",
      "\n",
      " \n",
      "\n",
      "o\n",
      "\n",
      "f\n",
      "\n",
      " \n",
      "\n",
      "l\n",
      "\n",
      "e\n",
      "\n",
      "t\n",
      "\n",
      "t\n",
      "\n",
      "e\n",
      "\n",
      "r\n",
      "\n",
      "s\n",
      "\n"
     ]
    }
   ],
   "source": [
    "for letter in \"a string of letters\" :\n",
    "    print(letter + \"\\n\")"
   ]
  },
  {
   "cell_type": "markdown",
   "metadata": {},
   "source": [
    "The other really popular special character is tab, denoted by `\\t`."
   ]
  },
  {
   "cell_type": "code",
   "execution_count": 6,
   "metadata": {
    "collapsed": false
   },
   "outputs": [
    {
     "name": "stdout",
     "output_type": "stream",
     "text": [
      "a\t \ts\tt\tr\ti\tn\tg\n"
     ]
    }
   ],
   "source": [
    "print(\"\\t\".join(\"a string\"))"
   ]
  },
  {
   "cell_type": "markdown",
   "metadata": {},
   "source": [
    "If you're ahead, look up the function `join` and see if you can figure out what it's doing.\n",
    "\n",
    "---"
   ]
  },
  {
   "cell_type": "markdown",
   "metadata": {},
   "source": [
    "There's a more convenient way to read text files that are split into lines, using the fact that Python assumes that's what you want to do. "
   ]
  },
  {
   "cell_type": "code",
   "execution_count": 7,
   "metadata": {
    "collapsed": false
   },
   "outputs": [
    {
     "name": "stdout",
     "output_type": "stream",
     "text": [
      "\"datetime\",\"register_no\",\"emp_no\",\"trans_no\",\"upc\",\"description\",\"trans_type\",\"trans_subtype\",\"trans_status\",\"department\",\"quantity\",\"Scale\",\"cost\",\"unitPrice\",\"total\",\"regPrice\",\"altPrice\",\"tax\",\"taxexempt\",\"foodstamp\",\"wicable\",\"discount\",\"memDiscount\",\"discountable\",\"discounttype\",\"voided\",\"percentDiscount\",\"ItemQtty\",\"volDiscType\",\"volume\",\"VolSpecial\",\"mixMatch\",\"matched\",\"memType\",\"staff\",\"numflag\",\"itemstatus\",\"tenderstatus\",\"charflag\",\"varflag\",\"batchHeaderID\",\"local\",\"organic\",\"display\",\"receipt\",\"card_no\",\"store\",\"branch\",\"match_id\",\"trans_id\"\n",
      "\n"
     ]
    }
   ],
   "source": [
    "with open(input_file) as my_file :\n",
    "    for line in my_file :\n",
    "        print(line)        \n",
    "        break"
   ]
  },
  {
   "cell_type": "markdown",
   "metadata": {},
   "source": [
    "### Stop Here\n",
    "Try to run through the cells above this point before class. Let me know on Slack if you have any trouble. \n",
    "\n",
    "---"
   ]
  },
  {
   "cell_type": "markdown",
   "metadata": {},
   "source": [
    "If you want to print out the first `n` lines, you could make a counter variable to do it. Complete the code below to print out the first 5 lines. I've put `??` in the places you need to put some code."
   ]
  },
  {
   "cell_type": "code",
   "execution_count": null,
   "metadata": {
    "collapsed": false
   },
   "outputs": [],
   "source": [
    "counter = 1\n",
    "\n",
    "with open(input_file) as ?? :\n",
    "    for line in my_file :\n",
    "        print(??) \n",
    "        counter += ??\n",
    "        if counter == ?? :\n",
    "            break"
   ]
  },
  {
   "cell_type": "markdown",
   "metadata": {},
   "source": [
    "There's another cool trick that I use all the time. Python provides a function, `enumerate`, that auto-generates this sort of counter as it goes along. Check it out."
   ]
  },
  {
   "cell_type": "code",
   "execution_count": null,
   "metadata": {
    "collapsed": false
   },
   "outputs": [],
   "source": [
    "with open(input_file) as my_file :\n",
    "    for idx,line in enumerate(my_file) :\n",
    "        print(idx)                              \n",
    "        print(line)\n",
    "        \n",
    "        if idx == 4 :\n",
    "            break"
   ]
  },
  {
   "cell_type": "markdown",
   "metadata": {},
   "source": [
    "We'll talk more about parsing text files, since it's an important part of Python. In the interim, some questions for you:\n",
    "\n",
    "* Does your file have a header row?\n",
    "* What's the delimiter of your file?\n",
    "* Does your file put quotes around the fields? \n"
   ]
  },
  {
   "cell_type": "markdown",
   "metadata": {},
   "source": [
    "---\n",
    "\n",
    "### Splitting lines\n",
    "\n",
    "One of the key tasks when working with text files is splitting `lines` into `fields`. Python provides a function for this."
   ]
  },
  {
   "cell_type": "code",
   "execution_count": null,
   "metadata": {
    "collapsed": false
   },
   "outputs": [],
   "source": [
    "?str.split"
   ]
  },
  {
   "cell_type": "markdown",
   "metadata": {},
   "source": [
    "Here's an example of `split` in action, using the `line` variable you created above. "
   ]
  },
  {
   "cell_type": "code",
   "execution_count": null,
   "metadata": {
    "collapsed": false
   },
   "outputs": [],
   "source": [
    "line.split(\",\") "
   ]
  },
  {
   "cell_type": "markdown",
   "metadata": {},
   "source": [
    "Repurpose the cell above that uses `enumerate` to split the lines based on the delimiter that you have. What do you notice about the output? Just print a couple of lines so you don't blow away your screen!\n",
    "\n",
    "---\n",
    "\n",
    "Now we're going to do something much more sophisticated, to give you a sense of how much we can do with these simple tools. I'm going to write some uncommented code, that we'll read together and try to figure out what's going on."
   ]
  },
  {
   "cell_type": "code",
   "execution_count": null,
   "metadata": {
    "collapsed": false
   },
   "outputs": [],
   "source": [
    "vals = set() # \"vals\" is a bad name for a variable, but I'm being tricky\n",
    "\n",
    "with open(input_file) as my_file :\n",
    "    for idx, line in enumerate(my_file) :\n",
    "        pieces = line.split(\",\")\n",
    "        vals.add(pieces[45])\n",
    "        \n",
    "        if idx % 100000 == 0 :\n",
    "            print(\"Processed \" + str(idx+1) + \" lines.\")\n",
    "\n",
    "print(\"Processed \" + str(idx) + \" lines.\")\n",
    "print(\"Done processing.\")"
   ]
  },
  {
   "cell_type": "code",
   "execution_count": null,
   "metadata": {
    "collapsed": false
   },
   "outputs": [],
   "source": [
    "print(len(vals))"
   ]
  },
  {
   "cell_type": "markdown",
   "metadata": {},
   "source": [
    "What's this doing?"
   ]
  }
 ],
 "metadata": {
  "kernelspec": {
   "display_name": "Python 3",
   "language": "python",
   "name": "python3"
  },
  "language_info": {
   "codemirror_mode": {
    "name": "ipython",
    "version": 3
   },
   "file_extension": ".py",
   "mimetype": "text/x-python",
   "name": "python",
   "nbconvert_exporter": "python",
   "pygments_lexer": "ipython3",
   "version": "3.6.6"
  }
 },
 "nbformat": 4,
 "nbformat_minor": 2
}
