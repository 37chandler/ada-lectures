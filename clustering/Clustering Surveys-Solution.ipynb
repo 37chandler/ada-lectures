{
 "cells": [
  {
   "cell_type": "markdown",
   "metadata": {},
   "source": [
    "## Python Clustering\n",
    "\n",
    "This notebook does some clustering, making use of `clustering_code.py`, a file of functions taken from Joel's _Data Science from Scratch_. I recommend giving chapter 19 of that book a read as you work through this."
   ]
  },
  {
   "cell_type": "code",
   "execution_count": 1,
   "metadata": {
    "collapsed": false
   },
   "outputs": [
    {
     "name": "stdout",
     "output_type": "stream",
     "text": [
      "Clustering Code Loaded\n"
     ]
    }
   ],
   "source": [
    "import clustering_code\n",
    "from collections import defaultdict\n",
    "from pprint import pprint\n",
    "\n",
    "input_file = \"survey_responses.txt\""
   ]
  },
  {
   "cell_type": "markdown",
   "metadata": {},
   "source": [
    "Now let's read in the data and put it in a default dictionary."
   ]
  },
  {
   "cell_type": "code",
   "execution_count": 6,
   "metadata": {
    "collapsed": false
   },
   "outputs": [],
   "source": [
    "student_data = defaultdict(list)\n",
    "with open(input_file,'r') as ifile :\n",
    "    next(ifile)\n",
    "    for row in ifile.readlines() :\n",
    "        row = row.strip().split(\"\\t\")\n",
    "        this_student = row[1]\n",
    "        student_data[this_student] = row[2:]\n"
   ]
  },
  {
   "cell_type": "markdown",
   "metadata": {},
   "source": [
    "We need numerical data for clustering, so we'll convert over the Yes/No responses."
   ]
  },
  {
   "cell_type": "code",
   "execution_count": 7,
   "metadata": {
    "collapsed": false
   },
   "outputs": [],
   "source": [
    "# Let's change No to 0 and Yes to 1, so everything is numerical\n",
    "for student in student_data :\n",
    "    this_data = student_data[student] # get the list of data \n",
    "    \n",
    "    for idx, item in enumerate(this_data) : # iterate over the list (and its index)\n",
    "        if item == \"No\" :\n",
    "            this_data[idx] = 0 # change the \"No\" spot to 0\n",
    "        elif item == \"Yes\" :\n",
    "            this_data[idx] = 1 # change the \"Yes\" spot to 1 \n",
    "            \n",
    "    student_data[student] = [float(item) for item in this_data] \n",
    "        # overwrite the old list with the new one. Also make everything numeric\n",
    "            "
   ]
  },
  {
   "cell_type": "code",
   "execution_count": 8,
   "metadata": {
    "collapsed": false
   },
   "outputs": [
    {
     "name": "stdout",
     "output_type": "stream",
     "text": [
      "defaultdict(<class 'list'>,\n",
      "            {'Arave': [249.0, 249.0, 7.0, 0.0, 0.0, 2.0],\n",
      "             'Berens': [929.0, 5.0, 7.0, 0.0, 0.0, 2.0],\n",
      "             'Chandler': [2169.0, 2169.0, 10.0, 0.0, 0.0, 2.0],\n",
      "             'Dezihan': [1166.0, 210.0, 5.0, 1.0, 1.0, 4.0],\n",
      "             'Diehl': [4568.0, 6.0, 4.0, 1.0, 1.0, 3.0],\n",
      "             'Flesch': [114.0, 222.0, 5.0, 1.0, 1.0, 5.0],\n",
      "             'Freyn': [1600.0, 1600.0, 4.0, 0.0, 1.0, 4.0],\n",
      "             'Grant': [271.0, 268.0, 8.0, 0.0, 1.0, 2.0],\n",
      "             'Hansen': [625.0, 625.0, 10.0, 0.0, 0.0, 2.0],\n",
      "             'Harper': [115.0, 115.0, 5.0, 1.0, 1.0, 2.0],\n",
      "             'Jambor': [391.0, 92.0, 5.0, 1.0, 1.0, 1.0],\n",
      "             'Kassner': [1743.0, 5.0, 5.0, 0.0, 0.0, 3.0],\n",
      "             'Khormali': [6600.0, 6600.0, 10.0, 0.0, 0.0, 2.0],\n",
      "             'Kolberg': [2132.0, 2.0, 5.0, 0.0, 0.0, 3.0],\n",
      "             'Layton': [128.0, 147.0, 7.0, 1.0, 1.0, 3.0],\n",
      "             'Makris': [187.0, 191.0, 5.0, 1.0, 1.0, 4.0],\n",
      "             'Marbut': [670.0, 660.0, 8.0, 0.0, 0.0, 4.0],\n",
      "             'Milligan': [1176.0, 276.0, 5.0, 1.0, 1.0, 3.0],\n",
      "             'Murphy': [927.0, 932.0, 5.0, 0.0, 1.0, 3.0],\n",
      "             'Murray': [991.0, 991.0, 5.0, 0.0, 1.0, 4.0],\n",
      "             'Nakajima': [5137.0, 5137.0, 4.0, 1.0, 1.0, 2.0],\n",
      "             'Norman': [936.0, 679.0, 6.0, 1.0, 1.0, 2.0],\n",
      "             'Persico': [1218.0, 2.0, 7.0, 0.0, 1.0, 2.0],\n",
      "             'Primm': [477.0, 190.0, 5.0, 0.0, 1.0, 2.0],\n",
      "             'Ray': [272.0, 272.0, 6.0, 0.0, 1.0, 4.0],\n",
      "             'Sicheri': [150.0, 1322.0, 5.0, 1.0, 1.0, 3.0],\n",
      "             'Sliwinski': [525.0, 525.0, 5.0, 0.0, 1.0, 4.0],\n",
      "             'Spoja': [4671.0, 4.0, 5.0, 0.0, 0.0, 5.0],\n",
      "             'Wiener': [2130.0, 2065.0, 7.0, 0.0, 0.0, 1.0],\n",
      "             'Yang': [5693.0, 5693.0, 5.0, 0.0, 1.0, 2.0],\n",
      "             'Zor': [6593.0, 6593.0, 7.0, 0.0, 0.0, 2.0],\n",
      "             'curnow': [491.0, 471.0, 5.0, 1.0, 1.0, 1.0]})\n"
     ]
    }
   ],
   "source": [
    "# Let's just print the data so it's easier to see\n",
    "pprint(student_data)"
   ]
  },
  {
   "cell_type": "code",
   "execution_count": 9,
   "metadata": {
    "collapsed": false
   },
   "outputs": [
    {
     "name": "stdout",
     "output_type": "stream",
     "text": [
      "3-means:\n",
      "0 : Chandler\n",
      "0 : Diehl\n",
      "0 : Freyn\n",
      "0 : Kolberg\n",
      "0 : Wiener\n",
      "0 : Spoja\n",
      "1 : Nakajima\n",
      "1 : Zor\n",
      "1 : Khormali\n",
      "1 : Yang\n",
      "2 : Hansen\n",
      "2 : Persico\n",
      "2 : Sliwinski\n",
      "2 : Harper\n",
      "2 : Milligan\n",
      "2 : Kassner\n",
      "2 : curnow\n",
      "2 : Primm\n",
      "2 : Flesch\n",
      "2 : Murphy\n",
      "2 : Jambor\n",
      "2 : Makris\n",
      "2 : Arave\n",
      "2 : Grant\n",
      "2 : Sicheri\n",
      "2 : Norman\n",
      "2 : Dezihan\n",
      "2 : Berens\n",
      "2 : Marbut\n",
      "2 : Ray\n",
      "2 : Murray\n",
      "2 : Layton\n",
      "[[2878.333333333333, 974.3333333333333, 5.833333333333333, 0.16666666666666666, 0.3333333333333333, 3.0], [6005.75, 6005.75, 6.5, 0.25, 0.5, 2.0], [625.0454545454546, 384.04545454545456, 5.954545454545455, 0.4545454545454546, 0.7727272727272727, 2.8181818181818183]]\n"
     ]
    }
   ],
   "source": [
    "# Now, let's explore some clusters. Try different values of\n",
    "# k and see what emerges\n",
    "\n",
    "k = 3\n",
    "assignments, means = clustering_code.train_dict(student_data, k)\n",
    "\n",
    "\n",
    "# Sorted version\n",
    "s_assign = ( (k ,assignments[k]) for k in sorted(assignments, key=assignments.get, reverse=False))\n",
    "print( str(k) + \"-means:\")\n",
    "for student, cluster in s_assign :\n",
    "    print(str(cluster) + \" : \" + student)\n",
    "\n",
    "print(means)\n",
    "    "
   ]
  },
  {
   "cell_type": "code",
   "execution_count": 10,
   "metadata": {
    "collapsed": false
   },
   "outputs": [],
   "source": [
    "# let's re-scale the two mileage columns so that they're in the range of 0 - 1.\n",
    "miles = []\n",
    "for student, vec in student_data.items() :\n",
    "    miles.append(vec[0])\n",
    "    miles.append(vec[1])\n",
    "\n",
    "max_miles = max(miles)\n",
    "min_miles = min(miles)\n",
    "\n",
    "for student, vec in student_data.items() :\n",
    "    vec[0] = (vec[0] - min_miles)/(max_miles - min_miles)    \n",
    "    vec[1] = (vec[1] - min_miles)/(max_miles - min_miles)    \n",
    "\n"
   ]
  },
  {
   "cell_type": "code",
   "execution_count": 11,
   "metadata": {
    "collapsed": true
   },
   "outputs": [],
   "source": [
    "# Let's make a function that prints the means in a nice way.\n",
    "\n",
    "def pprint_means(the_means) :\n",
    "    var_labels = [\"Birth Dist\",\"Age 15 Dist\",\n",
    "                  \"Post-Secondary\",\"Mkt Major\",\n",
    "                  \"Biz Major\",\"HH Size\"]\n",
    "    for idx, cluster_mean in enumerate(the_means) :\n",
    "        print(\"--- Printing Cluster \" + str(idx) + \" ---\")\n",
    "        \n",
    "        for idx2, item in enumerate(cluster_mean) :\n",
    "            print(\": \".join([var_labels[idx2],str(round(item,2))]))\n",
    "\n",
    "        print(\"----------------------\\n\")\n",
    "            "
   ]
  },
  {
   "cell_type": "code",
   "execution_count": 12,
   "metadata": {
    "collapsed": false
   },
   "outputs": [
    {
     "name": "stdout",
     "output_type": "stream",
     "text": [
      "5-means:\n",
      "0 : Harper\n",
      "0 : curnow\n",
      "0 : Primm\n",
      "0 : Jambor\n",
      "0 : Norman\n",
      "0 : Yang\n",
      "1 : Diehl\n",
      "1 : Nakajima\n",
      "2 : Sliwinski\n",
      "2 : Freyn\n",
      "2 : Milligan\n",
      "2 : Kassner\n",
      "2 : Kolberg\n",
      "2 : Flesch\n",
      "2 : Murphy\n",
      "2 : Makris\n",
      "2 : Sicheri\n",
      "2 : Dezihan\n",
      "2 : Ray\n",
      "2 : Murray\n",
      "2 : Spoja\n",
      "3 : Persico\n",
      "3 : Zor\n",
      "3 : Wiener\n",
      "3 : Arave\n",
      "3 : Grant\n",
      "3 : Berens\n",
      "3 : Marbut\n",
      "3 : Layton\n",
      "4 : Chandler\n",
      "4 : Hansen\n",
      "4 : Khormali\n"
     ]
    }
   ],
   "source": [
    "k = 5\n",
    "assignments, means = clustering_code.train_dict(student_data, k)\n",
    "\n",
    "#assignments = sorted(assignments.items(),\n",
    "#                     key = lambda (student, cluster) : cluster,\n",
    "#                     reverse = False)\n",
    "\n",
    "s_assign = ( (k ,assignments[k]) for k in sorted(assignments, key=assignments.get, reverse=False))\n",
    "print( str(k) + \"-means:\")\n",
    "for student, cluster in s_assign :\n",
    "    print(str(cluster) + \" : \" + student)\n",
    "\n"
   ]
  },
  {
   "cell_type": "code",
   "execution_count": 13,
   "metadata": {
    "collapsed": false
   },
   "outputs": [
    {
     "name": "stdout",
     "output_type": "stream",
     "text": [
      "--- Printing Cluster 0 ---\n",
      "Birth Dist: 0.2\n",
      "Age 15 Dist: 0.18\n",
      "Post-Secondary: 5.17\n",
      "Mkt Major: 0.67\n",
      "Biz Major: 1.0\n",
      "HH Size: 1.67\n",
      "----------------------\n",
      "\n",
      "--- Printing Cluster 1 ---\n",
      "Birth Dist: 0.74\n",
      "Age 15 Dist: 0.39\n",
      "Post-Secondary: 4.0\n",
      "Mkt Major: 1.0\n",
      "Biz Major: 1.0\n",
      "HH Size: 2.5\n",
      "----------------------\n",
      "\n",
      "--- Printing Cluster 2 ---\n",
      "Birth Dist: 0.18\n",
      "Age 15 Dist: 0.08\n",
      "Post-Secondary: 5.0\n",
      "Mkt Major: 0.38\n",
      "Biz Major: 0.77\n",
      "HH Size: 3.77\n",
      "----------------------\n",
      "\n",
      "--- Printing Cluster 3 ---\n",
      "Birth Dist: 0.23\n",
      "Age 15 Dist: 0.19\n",
      "Post-Secondary: 7.25\n",
      "Mkt Major: 0.12\n",
      "Biz Major: 0.38\n",
      "HH Size: 2.25\n",
      "----------------------\n",
      "\n",
      "--- Printing Cluster 4 ---\n",
      "Birth Dist: 0.47\n",
      "Age 15 Dist: 0.47\n",
      "Post-Secondary: 10.0\n",
      "Mkt Major: 0.0\n",
      "Biz Major: 0.0\n",
      "HH Size: 2.0\n",
      "----------------------\n",
      "\n"
     ]
    }
   ],
   "source": [
    "pprint_means(means)"
   ]
  }
 ],
 "metadata": {
  "kernelspec": {
   "display_name": "Python 3",
   "language": "python",
   "name": "python3"
  },
  "language_info": {
   "codemirror_mode": {
    "name": "ipython",
    "version": 3
   },
   "file_extension": ".py",
   "mimetype": "text/x-python",
   "name": "python",
   "nbconvert_exporter": "python",
   "pygments_lexer": "ipython3",
   "version": "3.6.6"
  }
 },
 "nbformat": 4,
 "nbformat_minor": 0
}
