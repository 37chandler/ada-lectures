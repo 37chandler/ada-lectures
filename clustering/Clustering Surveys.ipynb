{
 "cells": [
  {
   "cell_type": "code",
   "execution_count": 1,
   "metadata": {
    "collapsed": false
   },
   "outputs": [
    {
     "name": "stdout",
     "output_type": "stream",
     "text": [
      "Clustering Code Loaded\n"
     ]
    }
   ],
   "source": [
    "import clustering_code\n",
    "from collections import defaultdict\n",
    "from pprint import pprint\n",
    "\n",
    "input_file = \"survey_responses.txt\""
   ]
  },
  {
   "cell_type": "markdown",
   "metadata": {},
   "source": [
    "The survey has the following fields : \n",
    "\n",
    "* Timestamp\t\n",
    "* What's your family or last name?\t\n",
    "* Distance from where you were born to UMT.\t\n",
    "* Distance from where you lived at 15 to UMT.\t\n",
    "* How many years have you been in post-secondary school?\t\n",
    "* Were you an undergraduate marketing major? \t\n",
    "* Were you an undergraduate business major?\t\n",
    "* How many people live in your house/apartment (including you)? \n",
    "\n",
    "We'll work with this data to do a little bit of clustering. The code is based on Joel Grus's from _Data Science from Scratch_ with a few modifications. "
   ]
  },
  {
   "cell_type": "code",
   "execution_count": 3,
   "metadata": {
    "collapsed": false
   },
   "outputs": [],
   "source": [
    "student_data = defaultdict(list)\n",
    "with open(input_file,'r') as ifile :\n",
    "    next(ifile)\n",
    "    for row in ifile.readlines() :\n",
    "        row = row.strip().split(\"\\t\")\n",
    "        this_student = row[1]\n",
    "        student_data[this_student] = row[2:]\n"
   ]
  },
  {
   "cell_type": "markdown",
   "metadata": {},
   "source": [
    "We need numerical data for clustering, so we'll convert over the Yes/No responses."
   ]
  },
  {
   "cell_type": "code",
   "execution_count": 4,
   "metadata": {
    "collapsed": false
   },
   "outputs": [],
   "source": [
    "# Let's change No to 0 and Yes to 1, so everything is numerical\n",
    "for student in student_data :\n",
    "    this_data = student_data[student] # get the list of data \n",
    "\n",
    "    for idx, item in enumerate(this_data) : # iterate over the list (and its index)\n",
    "        if item == \"No\" :\n",
    "            this_data[idx] = 0 # change the \"No\" spot to 0\n",
    "        elif item == \"Yes\" :\n",
    "            this_data[idx] = 1 # change the \"Yes\" spot to 1 \n",
    "            \n",
    "    student_data[student] = [float(item) for item in this_data] \n",
    "        # overwrite the old list with the new one. Also make everything numeric\n",
    "            "
   ]
  },
  {
   "cell_type": "code",
   "execution_count": 5,
   "metadata": {
    "collapsed": false
   },
   "outputs": [
    {
     "name": "stdout",
     "output_type": "stream",
     "text": [
      "defaultdict(<class 'list'>,\n",
      "            {'Arave': [249.0, 249.0, 7.0, 0.0, 0.0, 2.0],\n",
      "             'Berens': [929.0, 5.0, 7.0, 0.0, 0.0, 2.0],\n",
      "             'Chandler': [2169.0, 2169.0, 10.0, 0.0, 0.0, 2.0],\n",
      "             'Dezihan': [1166.0, 210.0, 5.0, 1.0, 1.0, 4.0],\n",
      "             'Diehl': [4568.0, 6.0, 4.0, 1.0, 1.0, 3.0],\n",
      "             'Flesch': [114.0, 222.0, 5.0, 1.0, 1.0, 5.0],\n",
      "             'Freyn': [1600.0, 1600.0, 4.0, 0.0, 1.0, 4.0],\n",
      "             'Grant': [271.0, 268.0, 8.0, 0.0, 1.0, 2.0],\n",
      "             'Hansen': [625.0, 625.0, 10.0, 0.0, 0.0, 2.0],\n",
      "             'Harper': [115.0, 115.0, 5.0, 1.0, 1.0, 2.0],\n",
      "             'Jambor': [391.0, 92.0, 5.0, 1.0, 1.0, 1.0],\n",
      "             'Kassner': [1743.0, 5.0, 5.0, 0.0, 0.0, 3.0],\n",
      "             'Khormali': [6600.0, 6600.0, 10.0, 0.0, 0.0, 2.0],\n",
      "             'Kolberg': [2132.0, 2.0, 5.0, 0.0, 0.0, 3.0],\n",
      "             'Layton': [128.0, 147.0, 7.0, 1.0, 1.0, 3.0],\n",
      "             'Makris': [187.0, 191.0, 5.0, 1.0, 1.0, 4.0],\n",
      "             'Marbut': [670.0, 660.0, 8.0, 0.0, 0.0, 4.0],\n",
      "             'Milligan': [1176.0, 276.0, 5.0, 1.0, 1.0, 3.0],\n",
      "             'Murphy': [927.0, 932.0, 5.0, 0.0, 1.0, 3.0],\n",
      "             'Murray': [991.0, 991.0, 5.0, 0.0, 1.0, 4.0],\n",
      "             'Nakajima': [5137.0, 5137.0, 4.0, 1.0, 1.0, 2.0],\n",
      "             'Norman': [936.0, 679.0, 6.0, 1.0, 1.0, 2.0],\n",
      "             'Persico': [1218.0, 2.0, 7.0, 0.0, 1.0, 2.0],\n",
      "             'Primm': [477.0, 190.0, 5.0, 0.0, 1.0, 2.0],\n",
      "             'Ray': [272.0, 272.0, 6.0, 0.0, 1.0, 4.0],\n",
      "             'Sicheri': [150.0, 1322.0, 5.0, 1.0, 1.0, 3.0],\n",
      "             'Sliwinski': [525.0, 525.0, 5.0, 0.0, 1.0, 4.0],\n",
      "             'Spoja': [4671.0, 4.0, 5.0, 0.0, 0.0, 5.0],\n",
      "             'Wiener': [2130.0, 2065.0, 7.0, 0.0, 0.0, 1.0],\n",
      "             'Yang': [5693.0, 5693.0, 5.0, 0.0, 1.0, 2.0],\n",
      "             'Zor': [6593.0, 6593.0, 7.0, 0.0, 0.0, 2.0],\n",
      "             'curnow': [491.0, 471.0, 5.0, 1.0, 1.0, 1.0]})\n"
     ]
    }
   ],
   "source": [
    "# Let's just print the data so it's easier to see\n",
    "pprint(student_data)# Let's make a function that prints the means in a nice way.\n",
    "\n",
    "def pprint_means(the_means) :\n",
    "    var_labels = [\"Birth Dist\",\"Age 15 Dist\",\n",
    "                  \"Post-Secondary\",\"Mkt Major\",\n",
    "                  \"Biz Major\",\"HH Size\"]\n",
    "    for idx, cluster_mean in enumerate(the_means) :\n",
    "        print(\"--- Printing Cluster \" + str(idx) + \" ---\")\n",
    "        \n",
    "        for idx2, item in enumerate(cluster_mean) :\n",
    "            print(\": \".join([var_labels[idx2],str(round(item,2))]))\n",
    "\n",
    "        print(\"----------------------\\n\")\n"
   ]
  },
  {
   "cell_type": "markdown",
   "metadata": {},
   "source": [
    "We'll pause here for a second to talk about the data. "
   ]
  },
  {
   "cell_type": "code",
   "execution_count": 7,
   "metadata": {
    "collapsed": false
   },
   "outputs": [
    {
     "name": "stdout",
     "output_type": "stream",
     "text": [
      "4-means:\n",
      "0 : Chandler\n",
      "0 : Diehl\n",
      "0 : Wiener\n",
      "0 : Spoja\n",
      "1 : Persico\n",
      "1 : Freyn\n",
      "1 : Milligan\n",
      "1 : Kassner\n",
      "1 : Kolberg\n",
      "1 : Murphy\n",
      "1 : Norman\n",
      "1 : Dezihan\n",
      "1 : Berens\n",
      "1 : Murray\n",
      "2 : Hansen\n",
      "2 : Sliwinski\n",
      "2 : Harper\n",
      "2 : curnow\n",
      "2 : Primm\n",
      "2 : Flesch\n",
      "2 : Jambor\n",
      "2 : Makris\n",
      "2 : Arave\n",
      "2 : Grant\n",
      "2 : Sicheri\n",
      "2 : Marbut\n",
      "2 : Ray\n",
      "2 : Layton\n",
      "3 : Nakajima\n",
      "3 : Zor\n",
      "3 : Khormali\n",
      "3 : Yang\n"
     ]
    }
   ],
   "source": [
    "# Now, let's explore some clusters. Try different values of\n",
    "# k and see what emerges\n",
    "\n",
    "k = 4\n",
    "\n",
    "assignments, means = clustering_code.train_dict(student_data, k)\n",
    "\n",
    "# Sorted version\n",
    "s_assign = ( (k ,assignments[k]) for k in sorted(assignments, key=assignments.get, reverse=False))\n",
    "print( str(k) + \"-means:\")\n",
    "for student, cluster in s_assign :\n",
    "    print(str(cluster) + \" : \" + student)\n"
   ]
  },
  {
   "cell_type": "markdown",
   "metadata": {},
   "source": [
    "The clustering algorithm also returns the means of the clusters. How do we interpret these? "
   ]
  },
  {
   "cell_type": "code",
   "execution_count": 8,
   "metadata": {
    "collapsed": false
   },
   "outputs": [
    {
     "name": "stdout",
     "output_type": "stream",
     "text": [
      "--- Printing Cluster 0 ---\n",
      "Birth Dist: 3384.5\n",
      "Age 15 Dist: 1061.0\n",
      "Post-Secondary: 6.5\n",
      "Mkt Major: 0.25\n",
      "Biz Major: 0.25\n",
      "HH Size: 2.75\n",
      "----------------------\n",
      "\n",
      "--- Printing Cluster 1 ---\n",
      "Birth Dist: 1281.8\n",
      "Age 15 Dist: 470.2\n",
      "Post-Secondary: 5.4\n",
      "Mkt Major: 0.3\n",
      "Biz Major: 0.7\n",
      "HH Size: 3.0\n",
      "----------------------\n",
      "\n",
      "--- Printing Cluster 2 ---\n",
      "Birth Dist: 333.21\n",
      "Age 15 Dist: 382.07\n",
      "Post-Secondary: 6.14\n",
      "Mkt Major: 0.5\n",
      "Biz Major: 0.79\n",
      "HH Size: 2.79\n",
      "----------------------\n",
      "\n",
      "--- Printing Cluster 3 ---\n",
      "Birth Dist: 6005.75\n",
      "Age 15 Dist: 6005.75\n",
      "Post-Secondary: 6.5\n",
      "Mkt Major: 0.25\n",
      "Biz Major: 0.5\n",
      "HH Size: 2.0\n",
      "----------------------\n",
      "\n"
     ]
    }
   ],
   "source": [
    "pprint_means(means)"
   ]
  },
  {
   "cell_type": "code",
   "execution_count": 11,
   "metadata": {
    "collapsed": false
   },
   "outputs": [],
   "source": [
    "# Here's a place where we'll do some work rescaling the data.\n",
    "\n",
    "# maybe start by getting largest miles.\n",
    "miles = []\n",
    "for k in student_data :\n",
    "    miles.extend(student_data[k][:2])\n"
   ]
  },
  {
   "cell_type": "code",
   "execution_count": 13,
   "metadata": {
    "collapsed": false
   },
   "outputs": [],
   "source": [
    "max_miles = max(miles)"
   ]
  },
  {
   "cell_type": "markdown",
   "metadata": {},
   "source": [
    "Once you've rescaled the data, play around with some other clustering results. What emerges?"
   ]
  }
 ],
 "metadata": {
  "kernelspec": {
   "display_name": "Python 3",
   "language": "python",
   "name": "python3"
  },
  "language_info": {
   "codemirror_mode": {
    "name": "ipython",
    "version": 3
   },
   "file_extension": ".py",
   "mimetype": "text/x-python",
   "name": "python",
   "nbconvert_exporter": "python",
   "pygments_lexer": "ipython3",
   "version": "3.6.6"
  }
 },
 "nbformat": 4,
 "nbformat_minor": 0
}
