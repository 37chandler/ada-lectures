{
 "cells": [
  {
   "cell_type": "markdown",
   "metadata": {},
   "source": [
    "## Python, SQL and defaultdict\n",
    "\n",
    "In this notebook we're going to put a bunch of pieces together. \n",
    "\n",
    "* SQL: We'll build an \"in memory\" DB and write some complicated queries against it.\n",
    "* `defaultdict`: building on the recorded lecture, we'll take the results of those complicated queries and store them in a sensible way in a `defaultdict`. We'll also practice writing these out to a file. \n",
    "\n",
    "This code contains a number of the techniques you need to do the _second_ part of the Wedge assignment. \n",
    "\n",
    "We start by reading in the file as before. Note the import of our `wedge_helper` library, which is stored in a file with that same name and the extension `py`. As before, open that file up (maybe in Spyder?) so that you can see what's inside."
   ]
  },
  {
   "cell_type": "code",
   "execution_count": null,
   "metadata": {
    "collapsed": false
   },
   "outputs": [],
   "source": [
    "import sqlite3\n",
    "from pprint import pprint\n",
    "from collections import defaultdict\n",
    "from wedge_helper import *\n",
    "\n",
    "input_file = \"OwnerTransactions_30.txt\"\n",
    "\n",
    "# Let's just open the file and read the first few lines to the screen.\n",
    "with open(input_file,'r',encoding=\"Latin-1\") as ifile :\n",
    "    for idx, line in enumerate(ifile.readlines()) :\n",
    "        print(line.strip().split(\"\\t\"))\n",
    "        if idx > 3 :\n",
    "            break"
   ]
  },
  {
   "cell_type": "markdown",
   "metadata": {},
   "source": [
    "Let's do our standard open the DB in memory and create a cursor."
   ]
  },
  {
   "cell_type": "code",
   "execution_count": null,
   "metadata": {
    "collapsed": false
   },
   "outputs": [],
   "source": [
    "db = sqlite3.connect(':memory:') # SQLite makes it easy to build in-memory DBs\n",
    "cur = db.cursor()\n",
    "\n",
    "init_db(cur) # take a look at the .py file to see what happened here."
   ]
  },
  {
   "cell_type": "code",
   "execution_count": null,
   "metadata": {
    "collapsed": false
   },
   "outputs": [],
   "source": [
    "with open(input_file,'r') as ifile :\n",
    "    populate_db(db,ifile,delimiter=\"\\t\",limit=None)"
   ]
  },
  {
   "cell_type": "markdown",
   "metadata": {},
   "source": [
    "Because we're using functions from the helper file, what we just did looks deceptively simple. There's a full `transactions` table now stored in a DB in memory. And `cur` holds the connection to that DB."
   ]
  },
  {
   "cell_type": "code",
   "execution_count": null,
   "metadata": {
    "collapsed": false
   },
   "outputs": [],
   "source": [
    "cur.execute('SELECT * FROM transactions LIMIT 3')\n",
    "cur.fetchall()"
   ]
  },
  {
   "cell_type": "markdown",
   "metadata": {},
   "source": [
    "Notice how the query results come back. What sort of data type is it? What's the \"inner\" data type?\n",
    "\n",
    "Again we'll run a \"simple\" query and print out the results in a semi-pretty fashion. Check out [this page](https://docs.python.org/3.6/library/string.html#format-specification-mini-language) to learn more about the formatting tricks."
   ]
  },
  {
   "cell_type": "code",
   "execution_count": null,
   "metadata": {
    "collapsed": false
   },
   "outputs": [],
   "source": [
    "result = cur.execute('''SELECT card_no,\n",
    "                               date(datetime) as date,\n",
    "                               sum(total) AS spend\n",
    "                        FROM transactions\n",
    "                        WHERE trans_type = \"I\"\n",
    "                        GROUP BY card_no, date\n",
    "                        ''')\n",
    "\n",
    "for idx,row in enumerate(result) :\n",
    "    print(\"On {1}, card_no = {0} spent {2:,.2f}.\".format(row[0],row[1],row[2]))\n",
    "    if idx > 20 :\n",
    "        break"
   ]
  },
  {
   "cell_type": "markdown",
   "metadata": {},
   "source": [
    "Obviously, in the real world you wouldn't want to just print this stuff to the screen, you'd store it. A dictionary, with keys of date and owner number, is a natural way to do that. As in the lecture, we'll do this first in a plain dictionary."
   ]
  },
  {
   "cell_type": "code",
   "execution_count": null,
   "metadata": {
    "collapsed": false
   },
   "outputs": [],
   "source": [
    "date_owner_spend = dict()\n",
    "\n",
    "for idx,row in enumerate(result) :\n",
    "    owner, date, spend = row\n",
    "    spend = round(spend,2)\n",
    "    \n",
    "    if owner not in date_owner_spend :\n",
    "        date_owner_spend[owner] = dict()\n",
    "        date_owner_spend[owner][date] = spend\n",
    "    else : \n",
    "        if date not in date_owner_spend[owner] :\n",
    "            date_owner_spend[owner][date] = spend\n",
    "        else :\n",
    "            date_owner_spend[owner][date] += spend"
   ]
  },
  {
   "cell_type": "code",
   "execution_count": null,
   "metadata": {
    "collapsed": false
   },
   "outputs": [],
   "source": [
    "# Let's look at one owner's spend\n",
    "pprint(date_owner_spend[18736])"
   ]
  },
  {
   "cell_type": "markdown",
   "metadata": {},
   "source": [
    "Let's do the same thing, but with `defaultdict`."
   ]
  },
  {
   "cell_type": "code",
   "execution_count": null,
   "metadata": {
    "collapsed": true
   },
   "outputs": [],
   "source": [
    "date_owner_spend_2 = defaultdict(lambda: defaultdict(float)) \n",
    "for idx,row in enumerate(result) :\n",
    "    owner, date, spend = row\n",
    "    spend = round(spend,2)\n",
    "    \n",
    "    date_owner_spend_2[owner][date] += spend\n",
    "    "
   ]
  },
  {
   "cell_type": "code",
   "execution_count": null,
   "metadata": {
    "collapsed": false
   },
   "outputs": [],
   "source": [
    "pprint(date_owner_spend[18736])"
   ]
  },
  {
   "cell_type": "markdown",
   "metadata": {},
   "source": [
    "Now let's do a bigger query, like the one from last class. Let's get sales, transactions and items by department, year and month."
   ]
  },
  {
   "cell_type": "code",
   "execution_count": null,
   "metadata": {
    "collapsed": true
   },
   "outputs": [],
   "source": [
    "result = cur.execute('''SELECT department,\n",
    "                               substr(date(datetime),1,4) AS year,\n",
    "                               substr(date(datetime),6,2) AS month,\n",
    "                               sum(total) AS spend,\n",
    "                               count(distinct(date(datetime) || register_no ||\n",
    "                                       emp_no || trans_no)) as Transactions,\n",
    "                               sum(CASE WHEN (trans_status = 'V' or trans_status = 'R') THEN -1 ELSE 1 END) as Items\n",
    "                               FROM transactions\n",
    "                               WHERE department != 0 and\n",
    "                                    department != 15 and\n",
    "                                    trans_status != 'M' and\n",
    "                                    trans_status != 'C' and\n",
    "                                    trans_status != 'J' and\n",
    "                                   (trans_status = '' or \n",
    "                                    trans_status = ' ' or \n",
    "                                    trans_status = 'V' or \n",
    "                                    trans_status = 'R')\n",
    "                          GROUP BY department, year, month\n",
    "                          ORDER BY year, month''')"
   ]
  },
  {
   "cell_type": "code",
   "execution_count": null,
   "metadata": {
    "collapsed": false
   },
   "outputs": [],
   "source": [
    "dept_ym = defaultdict(lambda: # dept_no\n",
    "                      defaultdict(lambda: # year \n",
    "                                  defaultdict(lambda: # month\n",
    "                                              defaultdict(float)))) # #field name and value\n",
    "                      \n",
    "for row in result :\n",
    "    dept, year, month, spend, trans, items = row\n",
    "    spend = round(spend,2)\n",
    "\n",
    "    dept_ym[dept][year][month]['spend'] += spend\n",
    "    dept_ym[dept][year][month]['trans'] += trans\n",
    "    dept_ym[dept][year][month]['items'] += items"
   ]
  },
  {
   "cell_type": "markdown",
   "metadata": {},
   "source": [
    "Play around with this dictionary a bit to make sure you understand the structure.\n",
    "\n",
    "Sometimes having the data in memory is all you need. Other times you're going to want to write it out to a file to work with further. Let's write out this dictionary."
   ]
  },
  {
   "cell_type": "code",
   "execution_count": null,
   "metadata": {
    "collapsed": true
   },
   "outputs": [],
   "source": [
    "header = [\"dept_no\",\"year\",\"month\",\"spend\",\"transactions\",\"items\"]\n",
    "\n",
    "with open(\"dept_year_month.txt\",'w') as ofile :\n",
    "    ofile.write(\"\\t\".join(header) + \"\\n\")\n",
    "    \n",
    "    for dept in dept_ym :\n",
    "        for year in dept_ym[dept] :\n",
    "            for month in dept_ym[dept][year] :\n",
    "                row = [dept,year,month,\n",
    "                      dept_ym[dept][year][month]['spend'],\n",
    "                      dept_ym[dept][year][month]['trans'],\n",
    "                      dept_ym[dept][year][month]['items']]\n",
    "                \n",
    "                ofile.write(\"\\t\".join([str(item) for item in row]) + \"\\n\")\n",
    "    "
   ]
  },
  {
   "cell_type": "markdown",
   "metadata": {},
   "source": [
    "---\n",
    "\n",
    "Now it's your turn. Write a query that builds the first task in Wedge Part 2: sales (and transactions and items) by date by hour. We haven't talked too much about how you get \"hour\" out of one of these transaction tables, so that's going to require some trial and error. One option for building queries: redo this notebook where the db is _not_ `:memory:` but where you actually give it a name. Then it will be on your computer, you can open your SQLite Browser and play around there. "
   ]
  },
  {
   "cell_type": "code",
   "execution_count": null,
   "metadata": {
    "collapsed": false
   },
   "outputs": [],
   "source": [
    "result = cur.execute('''\n",
    "                        \n",
    "                        -- Your query here\n",
    "\n",
    "                    ''')"
   ]
  },
  {
   "cell_type": "markdown",
   "metadata": {},
   "source": [
    "Now store it in a `defaultdict` and write it out in the subsequent cell."
   ]
  },
  {
   "cell_type": "code",
   "execution_count": null,
   "metadata": {
    "collapsed": true
   },
   "outputs": [],
   "source": [
    "# Store query results in a default dict"
   ]
  },
  {
   "cell_type": "code",
   "execution_count": null,
   "metadata": {
    "collapsed": true
   },
   "outputs": [],
   "source": [
    "# write out your default dict"
   ]
  },
  {
   "cell_type": "markdown",
   "metadata": {},
   "source": [
    "Run the cell below as a best practice, but the DB will close if you quit the notebook. If it's an in-memory DB then it's also gone!"
   ]
  },
  {
   "cell_type": "code",
   "execution_count": null,
   "metadata": {
    "collapsed": true
   },
   "outputs": [],
   "source": [
    "db.close()"
   ]
  }
 ],
 "metadata": {
  "kernelspec": {
   "display_name": "Python 3",
   "language": "python",
   "name": "python3"
  },
  "language_info": {
   "codemirror_mode": {
    "name": "ipython",
    "version": 3
   },
   "file_extension": ".py",
   "mimetype": "text/x-python",
   "name": "python",
   "nbconvert_exporter": "python",
   "pygments_lexer": "ipython3",
   "version": "3.6.6"
  }
 },
 "nbformat": 4,
 "nbformat_minor": 0
}
