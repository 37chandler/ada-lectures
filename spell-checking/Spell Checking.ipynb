{
 "cells": [
  {
   "cell_type": "markdown",
   "metadata": {},
   "source": [
    "## Spell checking\n",
    "\n",
    "This workbook holds some exploration of the spell checking code.\n",
    "\n",
    "---\n",
    "\n",
    "Exercise 1: read in `wsj_with_errors.txt` into Python. Find every word in there that's not in the nltk word corpus and write that out to a new file. Remember to remove punctuation and numbers and to cast everything to lowercase."
   ]
  },
  {
   "cell_type": "code",
   "execution_count": null,
   "metadata": {
    "collapsed": false
   },
   "outputs": [],
   "source": [
    "from nltk.corpus import words\n",
    "from string import punctuation\n",
    "import re\n",
    "\n",
    "input_file = \"wsj_with_errors.txt\"\n",
    "non_alpha = re.compile(r\"[^a-z ]\")\n",
    "\n",
    "# also consider the `isalpha` function\n",
    "print(\"abcde\".isalpha())\n",
    "print(\"ab123\".isalpha())"
   ]
  },
  {
   "cell_type": "code",
   "execution_count": null,
   "metadata": {
    "collapsed": false
   },
   "outputs": [],
   "source": [
    "# here's a place to see if you've stripped out everything.\n",
    "\n",
    "line = \"Welcome to ADA. This is week 15!\"\n",
    "\n",
    "# See if you can process this line and have it return a list of words\n",
    "# that are in lowercase, with no punctuation, and with no numbers.\n"
   ]
  },
  {
   "cell_type": "code",
   "execution_count": null,
   "metadata": {
    "collapsed": true
   },
   "outputs": [],
   "source": [
    "# place to start doing exercise one"
   ]
  },
  {
   "cell_type": "markdown",
   "metadata": {},
   "source": [
    "---\n",
    "\n",
    "Now do the same with the 1M word corpus in `big.txt`."
   ]
  },
  {
   "cell_type": "code",
   "execution_count": null,
   "metadata": {
    "collapsed": true
   },
   "outputs": [],
   "source": [
    "# place to do work with big.txt"
   ]
  },
  {
   "cell_type": "markdown",
   "metadata": {},
   "source": [
    "---\n",
    "\n",
    "Next exercise: write a function that takes a word and returns all deletions."
   ]
  },
  {
   "cell_type": "code",
   "execution_count": null,
   "metadata": {
    "collapsed": false
   },
   "outputs": [],
   "source": [
    "def get_deletions(word) :\n",
    "    # given a word, return a list of every word that \n",
    "    # represents a single deletion from that word.\n",
    "    pass\n",
    "    \n",
    "print(get_deletions(\"test\"))\n",
    "print(get_deletions(\"longer\"))\n",
    "print(get_deletions(\"sesquipedalian\"))"
   ]
  },
  {
   "cell_type": "markdown",
   "metadata": {},
   "source": [
    "---\n",
    "\n",
    "Now some code related to the stuff we talked about in class."
   ]
  },
  {
   "cell_type": "markdown",
   "metadata": {},
   "source": [
    "---\n",
    "\n",
    "## Running over Twitter Descriptions\n",
    "\n",
    "1. Run the spell checker over the first 1000 descriptions from one of your Twitter files. \n",
    "\n",
    "1. Print the misspelled words along with their correction. \n",
    "\n",
    "1. How many seem to be legit misspellings?\n"
   ]
  },
  {
   "cell_type": "code",
   "execution_count": null,
   "metadata": {
    "collapsed": true
   },
   "outputs": [],
   "source": [
    "from spell_check import *"
   ]
  },
  {
   "cell_type": "code",
   "execution_count": null,
   "metadata": {
    "collapsed": false
   },
   "outputs": [],
   "source": [
    "# Read in the twitter data\n",
    "file_location = \"C:\\\\Users\\\\jchan\\\\Dropbox\\\\Teaching\\\\_PastSemesters\\\\2017_Spring\\\\UnstructuredData\\\\PreWork\\\\\"\n",
    "file_name = \"20170305_GeneralMills_followers.txt\"\n",
    "\n",
    "descs = []\n",
    "with open(file_location + file_name,'r') as ifile :\n",
    "    next(ifile)\n",
    "    for idx, line in enumerate(ifile.readlines()) :\n",
    "        line = line.strip().split(\"\\t\")\n",
    "        \n",
    "        # spot 6 has the description\n",
    "        if len(line) >= 7 : # sometimes we don't have descriptions\n",
    "            descs.extend(line[6].split())\n",
    "            \n",
    "        if idx > 250 :\n",
    "            break"
   ]
  },
  {
   "cell_type": "code",
   "execution_count": null,
   "metadata": {
    "collapsed": false
   },
   "outputs": [],
   "source": [
    "len(WORDS)"
   ]
  },
  {
   "cell_type": "code",
   "execution_count": null,
   "metadata": {
    "collapsed": false
   },
   "outputs": [],
   "source": [
    "misspell_count = 0\n",
    "\n",
    "non_alpha = re.compile(r\"[^a-z]\")\n",
    "\n",
    "for idx, word in enumerate(descs) :\n",
    "    word = word.lower()\n",
    "    word = non_alpha.sub(\"\",word)\n",
    "    \n",
    "    if word : # get rid of blanks\n",
    "        c = correction(word)\n",
    "        if c != word :\n",
    "            misspell_count += 1\n",
    "            print(\" : \".join([word,c]))\n",
    "\n",
    "#        if idx > 100 :\n",
    "#            break\n",
    "print(\"Found \" + str(misspell_count) + \" misspellings.\")"
   ]
  }
 ],
 "metadata": {
  "kernelspec": {
   "display_name": "Python 3",
   "language": "python",
   "name": "python3"
  },
  "language_info": {
   "codemirror_mode": {
    "name": "ipython",
    "version": 3
   },
   "file_extension": ".py",
   "mimetype": "text/x-python",
   "name": "python",
   "nbconvert_exporter": "python",
   "pygments_lexer": "ipython3",
   "version": "3.6.6"
  }
 },
 "nbformat": 4,
 "nbformat_minor": 0
}
