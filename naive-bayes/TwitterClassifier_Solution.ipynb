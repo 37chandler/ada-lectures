{
 "cells": [
  {
   "cell_type": "markdown",
   "metadata": {},
   "source": [
    "## Twitter Classification with Naive Bayes\n",
    "\n",
    "In this notebook, we'll try to predict which twitter user follows which handle you selected. The goals here are potentially two-fold. \n",
    "\n",
    "1. Build a Classifier: We might be legitimately interested in classification. For instance, we could do this along some dimension we might care about. Then we could take any description and score it along this dimension. Could you do this with just general text? What might be the strengths and weaknesses of doing so?\n",
    "1. Naive Bayes (NB) for Exploration: If we just want to understand how two groups use (this very particular sub-species of) language, NB could help us do it. As we'll see below, the `show_most_informative_features` for sets of words can give us a view into the raw language that's being used. \n"
   ]
  },
  {
   "cell_type": "code",
   "execution_count": 1,
   "metadata": {
    "collapsed": true
   },
   "outputs": [],
   "source": [
    "import nltk\n",
    "import random\n",
    "from string import punctuation\n",
    "from pprint import pprint"
   ]
  },
  {
   "cell_type": "markdown",
   "metadata": {},
   "source": [
    "Let's start by simply using the words in descriptions. First, let's read in the data. "
   ]
  },
  {
   "cell_type": "code",
   "execution_count": 2,
   "metadata": {
    "collapsed": false
   },
   "outputs": [],
   "source": [
    "# you'll need to replace your file names and labels here. \n",
    "\n",
    "d = []\n",
    "\n",
    "with open(\"20181106_GeneralMills_followers.txt\",'r') as infile :\n",
    "    next(infile)\n",
    "    \n",
    "    for line in infile.readlines() :\n",
    "        line = line.strip(\"\\n\").split(\"\\t\") # need to specify what we're stripping here.\n",
    "        \n",
    "        if line[6] : # test for empty description\n",
    "            d.append((line[6],'big_food'))\n",
    "\n",
    "with open(\"20181106_michaelpollan_followers.txt\",'r') as infile :\n",
    "    next(infile)\n",
    "    \n",
    "    for line in infile.readlines() :\n",
    "        line = line.strip(\"\\n\").split(\"\\t\")\n",
    "        if line[6] :\n",
    "            d.append((line[6],'pollan'))\n"
   ]
  },
  {
   "cell_type": "markdown",
   "metadata": {},
   "source": [
    "As always, let's look at a little of the data. I'll shuffle it first."
   ]
  },
  {
   "cell_type": "code",
   "execution_count": 3,
   "metadata": {
    "collapsed": false
   },
   "outputs": [
    {
     "name": "stdout",
     "output_type": "stream",
     "text": [
      "[('There is a mead out there for everyone. Let us help you find yours!  Tasting Room Hours: Thurs-Fri: 4pm-7pm Sun: 1pm-4pm', 'pollan'), ('is a fire fighter And wants to be a YouTuber but needs advice and wants to be a official actor', 'big_food'), ('Writer of mysteries, young adult fantasies, and military memoir. Also an avid knitter, crocheter, and sometime designer.', 'pollan'), ('Club DJ plays House music,Deep,classic,afrosoul,company Jivemore Entertainment,DJ or SOUND system bookings: buti200@webmail.co.za 0825868070', 'big_food'), ('HAHAHAHAHAHAHAHAH', 'big_food')]\n"
     ]
    }
   ],
   "source": [
    "random.shuffle(d)\n",
    "sample = d[:5]\n",
    "print(sample)"
   ]
  },
  {
   "cell_type": "markdown",
   "metadata": {},
   "source": [
    "Now we need to write a function that cleans up the description and maps it on to words. "
   ]
  },
  {
   "cell_type": "code",
   "execution_count": 4,
   "metadata": {
    "collapsed": true
   },
   "outputs": [],
   "source": [
    "def desc_features(the_description) :\n",
    "    \"\"\" Input: A twitter description\n",
    "        Output: A dictionary listin the words that are in \n",
    "                the description.\n",
    "                \n",
    "        This function does some cleaning on the descriptions,\n",
    "        removing some punctuation, splitting on whitespace, \n",
    "        dropping to lower case. It returns a dictionary \n",
    "        of the form \n",
    "            {example : True,\n",
    "             word :    True}\n",
    "    \n",
    "        \"\"\"\n",
    "    exclude = set(punctuation)\n",
    "    exclude.remove(\"#\") #useful for twitter...\n",
    "    \n",
    "    # Found this at https://stackoverflow.com/questions/265960/best-way-to-strip-punctuation-from-a-string-in-python\n",
    "    the_description = ''.join([ch.lower() for ch in the_description if ch not in exclude])\n",
    "    \n",
    "    word_list = the_description.split()\n",
    "\n",
    "    ret_val = {}\n",
    "    \n",
    "    for word in word_list :\n",
    "        ret_val[word] = True\n",
    "    \n",
    "    return(ret_val)\n",
    "    "
   ]
  },
  {
   "cell_type": "markdown",
   "metadata": {},
   "source": [
    "As always, it's a good idea to test your functions."
   ]
  },
  {
   "cell_type": "code",
   "execution_count": 5,
   "metadata": {
    "collapsed": false
   },
   "outputs": [
    {
     "name": "stdout",
     "output_type": "stream",
     "text": [
      "Started with: There is a mead out there for everyone. Let us help you find yours!  Tasting Room Hours: Thurs-Fri: 4pm-7pm Sun: 1pm-4pm\n",
      "-------------------Then got---------------------------\n",
      "{'1pm4pm': True,\n",
      " '4pm7pm': True,\n",
      " 'a': True,\n",
      " 'everyone': True,\n",
      " 'find': True,\n",
      " 'for': True,\n",
      " 'help': True,\n",
      " 'hours': True,\n",
      " 'is': True,\n",
      " 'let': True,\n",
      " 'mead': True,\n",
      " 'out': True,\n",
      " 'room': True,\n",
      " 'sun': True,\n",
      " 'tasting': True,\n",
      " 'there': True,\n",
      " 'thursfri': True,\n",
      " 'us': True,\n",
      " 'you': True,\n",
      " 'yours': True}\n",
      "------------------------------------------------------\n",
      "\n",
      "\n",
      "Started with: is a fire fighter And wants to be a YouTuber but needs advice and wants to be a official actor\n",
      "-------------------Then got---------------------------\n",
      "{'a': True,\n",
      " 'actor': True,\n",
      " 'advice': True,\n",
      " 'and': True,\n",
      " 'be': True,\n",
      " 'but': True,\n",
      " 'fighter': True,\n",
      " 'fire': True,\n",
      " 'is': True,\n",
      " 'needs': True,\n",
      " 'official': True,\n",
      " 'to': True,\n",
      " 'wants': True,\n",
      " 'youtuber': True}\n",
      "------------------------------------------------------\n",
      "\n",
      "\n",
      "Started with: Writer of mysteries, young adult fantasies, and military memoir. Also an avid knitter, crocheter, and sometime designer.\n",
      "-------------------Then got---------------------------\n",
      "{'adult': True,\n",
      " 'also': True,\n",
      " 'an': True,\n",
      " 'and': True,\n",
      " 'avid': True,\n",
      " 'crocheter': True,\n",
      " 'designer': True,\n",
      " 'fantasies': True,\n",
      " 'knitter': True,\n",
      " 'memoir': True,\n",
      " 'military': True,\n",
      " 'mysteries': True,\n",
      " 'of': True,\n",
      " 'sometime': True,\n",
      " 'writer': True,\n",
      " 'young': True}\n",
      "------------------------------------------------------\n",
      "\n",
      "\n",
      "Started with: Club DJ plays House music,Deep,classic,afrosoul,company Jivemore Entertainment,DJ or SOUND system bookings: buti200@webmail.co.za 0825868070\n",
      "-------------------Then got---------------------------\n",
      "{'0825868070': True,\n",
      " 'bookings': True,\n",
      " 'buti200webmailcoza': True,\n",
      " 'club': True,\n",
      " 'dj': True,\n",
      " 'entertainmentdj': True,\n",
      " 'house': True,\n",
      " 'jivemore': True,\n",
      " 'musicdeepclassicafrosoulcompany': True,\n",
      " 'or': True,\n",
      " 'plays': True,\n",
      " 'sound': True,\n",
      " 'system': True}\n",
      "------------------------------------------------------\n",
      "\n",
      "\n",
      "Started with: HAHAHAHAHAHAHAHAH\n",
      "-------------------Then got---------------------------\n",
      "{'hahahahahahahahah': True}\n",
      "------------------------------------------------------\n",
      "\n",
      "\n"
     ]
    }
   ],
   "source": [
    "for a in sample :\n",
    "    desc, label = a\n",
    "    print(\"Started with: \" + desc)\n",
    "    print(\"-------------------Then got---------------------------\")\n",
    "    pprint(desc_features(desc))\n",
    "    print(\"------------------------------------------------------\")\n",
    "    print()\n",
    "    print()"
   ]
  },
  {
   "cell_type": "markdown",
   "metadata": {},
   "source": [
    "Okay, now we're ready to do the NB stuff. It's actually shockingly easy at this point, since we've done the work to set it up. We've got 255K total descriptions (found by typing `len(d)` in a cell). That's big enough that I'll use a full 5000 for our test set."
   ]
  },
  {
   "cell_type": "code",
   "execution_count": 6,
   "metadata": {
    "collapsed": true
   },
   "outputs": [],
   "source": [
    "test_set_size = 5000\n",
    "\n",
    "featuresets = [(desc_features(desc), label) for (desc, label) in d]\n",
    "train_set, test_set = featuresets[test_set_size:], featuresets[:test_set_size]\n",
    "classifier = nltk.NaiveBayesClassifier.train(train_set)"
   ]
  },
  {
   "cell_type": "markdown",
   "metadata": {},
   "source": [
    "How'd we do?"
   ]
  },
  {
   "cell_type": "code",
   "execution_count": 7,
   "metadata": {
    "collapsed": false
   },
   "outputs": [
    {
     "name": "stdout",
     "output_type": "stream",
     "text": [
      "0.759\n"
     ]
    }
   ],
   "source": [
    "print(nltk.classify.accuracy(classifier, test_set))"
   ]
  },
  {
   "cell_type": "markdown",
   "metadata": {},
   "source": [
    "Not terrible, assuming it's about a 50/50 split. Let's see what that is, using my trick from last time."
   ]
  },
  {
   "cell_type": "code",
   "execution_count": 8,
   "metadata": {
    "collapsed": false
   },
   "outputs": [
    {
     "data": {
      "text/plain": [
       "Counter({'big_food': 59782, 'pollan': 195324})"
      ]
     },
     "execution_count": 8,
     "metadata": {},
     "output_type": "execute_result"
    }
   ],
   "source": [
    "from collections import Counter\n",
    "\n",
    "Counter([label for desc, label in d])"
   ]
  },
  {
   "cell_type": "markdown",
   "metadata": {},
   "source": [
    "Hmm, in my example Pollan is about 76% of the data, so we're not doing better than if we just guessed \"pollan\" all the time. Well, we can think about making it better in a minute. For now, let's see what's predictive."
   ]
  },
  {
   "cell_type": "code",
   "execution_count": 9,
   "metadata": {
    "collapsed": false
   },
   "outputs": [
    {
     "name": "stdout",
     "output_type": "stream",
     "text": [
      "Most Informative Features\n",
      "             influenster = True           big_fo : pollan =     70.8 : 1.0\n",
      "                 rockalt = True           big_fo : pollan =     64.3 : 1.0\n",
      "               hiphoprap = True           big_fo : pollan =     62.1 : 1.0\n",
      "                bzzagent = True           big_fo : pollan =     59.9 : 1.0\n",
      "            #sweepstakes = True           big_fo : pollan =     53.4 : 1.0\n",
      "               pillsbury = True           big_fo : pollan =     49.0 : 1.0\n",
      "                  roblox = True           big_fo : pollan =     47.7 : 1.0\n",
      "              #giveaways = True           big_fo : pollan =     44.4 : 1.0\n",
      "              #packaging = True           big_fo : pollan =     42.5 : 1.0\n",
      "               couponing = True           big_fo : pollan =     41.6 : 1.0\n",
      "             #industrial = True           big_fo : pollan =     40.3 : 1.0\n",
      "                   brony = True           big_fo : pollan =     38.1 : 1.0\n",
      "                   amosc = True           big_fo : pollan =     38.1 : 1.0\n",
      "                  herbal = True           pollan : big_fo =     36.8 : 1.0\n",
      "                    #mrx = True           big_fo : pollan =     36.0 : 1.0\n",
      "                couponer = True           big_fo : pollan =     36.0 : 1.0\n",
      "             sweepstakes = True           big_fo : pollan =     35.6 : 1.0\n",
      "                  sweeps = True           big_fo : pollan =     34.1 : 1.0\n",
      "        #agroalimentaire = True           big_fo : pollan =     33.8 : 1.0\n",
      "                feminism = True           pollan : big_fo =     33.3 : 1.0\n"
     ]
    }
   ],
   "source": [
    "classifier.show_most_informative_features(20)"
   ]
  },
  {
   "cell_type": "markdown",
   "metadata": {},
   "source": [
    "Lots of the big food features seem to be pretty \"spammy\". For instance \"influenster\", \"#sweepstakes\", \"#giveaways\". Although some of them seem legit like those related to coupons or pillsbury. \n",
    "\n",
    "If I was going to try to improve it, here's some stuff I'd try:\n",
    "\n",
    "1. Remove stopwords: Remember, these are those common words that don't carry a lot of meaning. Might not matter, but it'd be cleaner and faster. \n",
    "1. Limit the model to just the top $N$ remaining words. Not sure what to pick for $N$, but I'd try 1000 or so. It'd be worth it to do the whole `train_set/dev_test_set/test_set` if we were headed down this path and we could try a bunch of $N$s. \n",
    "1. See if number of followers is predictive. Using continuous variables in Naive Bayes is [a bit tricky](https://stats.stackexchange.com/questions/61034/naive-bayes-on-continuous-variables), but it can sometimes be quite helpful. \n",
    "\n",
    "From an exploratory standpoint, I might be able to get more interesting results by sampling my more pervasive class (pollan for me). Let's take a look at that."
   ]
  },
  {
   "cell_type": "code",
   "execution_count": 10,
   "metadata": {
    "collapsed": false
   },
   "outputs": [
    {
     "data": {
      "text/plain": [
       "255106"
      ]
     },
     "execution_count": 10,
     "metadata": {},
     "output_type": "execute_result"
    }
   ],
   "source": [
    "len(d)"
   ]
  },
  {
   "cell_type": "code",
   "execution_count": 11,
   "metadata": {
    "collapsed": false
   },
   "outputs": [],
   "source": [
    "# Let's get 60K from Pollan\n",
    "new_d = [item for item in d if item[1]==\"big_food\"]\n",
    "pollan = [item for item in d if item[1]==\"pollan\"]\n",
    " \n",
    "new_d.extend(random.choices(pollan,k=60000))"
   ]
  },
  {
   "cell_type": "code",
   "execution_count": 12,
   "metadata": {
    "collapsed": false
   },
   "outputs": [
    {
     "data": {
      "text/plain": [
       "Counter({'big_food': 59782, 'pollan': 60000})"
      ]
     },
     "execution_count": 12,
     "metadata": {},
     "output_type": "execute_result"
    }
   ],
   "source": [
    "# Did we get what we expected? \n",
    "Counter([label for desc, label in new_d])"
   ]
  },
  {
   "cell_type": "code",
   "execution_count": 13,
   "metadata": {
    "collapsed": true
   },
   "outputs": [],
   "source": [
    "test_set_size = 5000\n",
    "\n",
    "featuresets = [(desc_features(desc), label) for (desc, label) in new_d]\n",
    "train_set, test_set = featuresets[test_set_size:], featuresets[:test_set_size]\n",
    "classifier = nltk.NaiveBayesClassifier.train(train_set)"
   ]
  },
  {
   "cell_type": "code",
   "execution_count": 14,
   "metadata": {
    "collapsed": false
   },
   "outputs": [
    {
     "name": "stdout",
     "output_type": "stream",
     "text": [
      "0.6912\n",
      "Most Informative Features\n",
      "               hiphoprap = True           big_fo : pollan =     67.5 : 1.0\n",
      "             sweepstakes = True           big_fo : pollan =     61.7 : 1.0\n",
      "                freebies = True           big_fo : pollan =     50.0 : 1.0\n",
      "                    fmcg = True           big_fo : pollan =     50.0 : 1.0\n",
      "               herbalist = True           pollan : big_fo =     45.3 : 1.0\n",
      "            permaculture = True           pollan : big_fo =     39.6 : 1.0\n",
      "                  herbal = True           pollan : big_fo =     38.0 : 1.0\n",
      "                fortnite = True           big_fo : pollan =     35.4 : 1.0\n",
      "               couponing = True           big_fo : pollan =     32.5 : 1.0\n",
      "            naturopathic = True           pollan : big_fo =     32.0 : 1.0\n",
      "               minecraft = True           big_fo : pollan =     31.0 : 1.0\n",
      "                  gamers = True           big_fo : pollan =     31.0 : 1.0\n",
      "                     wwe = True           big_fo : pollan =     30.6 : 1.0\n",
      "               giveaways = True           big_fo : pollan =     27.9 : 1.0\n",
      "                    mpls = True           big_fo : pollan =     27.4 : 1.0\n",
      "                locavore = True           pollan : big_fo =     26.5 : 1.0\n",
      "                streamer = True           big_fo : pollan =     26.1 : 1.0\n",
      "                feminism = True           pollan : big_fo =     25.3 : 1.0\n",
      "                     ps4 = True           big_fo : pollan =     25.2 : 1.0\n",
      "            chiropractor = True           pollan : big_fo =     24.7 : 1.0\n"
     ]
    }
   ],
   "source": [
    "print(nltk.classify.accuracy(classifier, test_set))\n",
    "classifier.show_most_informative_features(20)"
   ]
  },
  {
   "cell_type": "code",
   "execution_count": 20,
   "metadata": {
    "collapsed": false
   },
   "outputs": [
    {
     "name": "stdout",
     "output_type": "stream",
     "text": [
      "42yo gay Caucasian(fair complexion) male/36 inch waist/blue-grey eyes/Zodiac: Cancer/ animal lover/ dining out/ shopping/sweepstakes lover.\n",
      "big_food\n",
      "\n",
      "\n",
      "i love tv,giveaways,contests,&sweepstakes my ,mom of one son,nkotb fan 4 -life,! i love my boyfriend to :) love u babe! :)\n",
      "big_food\n",
      "\n",
      "\n",
      " my baby girl and hubby, my dog and cat, sweepstakes, twitter parties, contests, outside and nature, non-GMO/natural/organics, and food of course \n",
      "big_food\n",
      "\n",
      "\n",
      "I m a married mom of 3 who loves bargains, coupons and sweepstakes!\n",
      "big_food\n",
      "\n",
      "\n",
      "WIN Cash & Prizes!! Easy to enter sweepstakes, contests & giveaways. #giveaway #win #contest #free #cash WIN BIG!!\n",
      "big_food\n",
      "\n",
      "\n",
      "I am originally from Hawaii and live in So Cal.I love to coupon and enter sweepstakes.I am I breast cancer survivor and am obsessed with cats.\n",
      "big_food\n",
      "\n",
      "\n"
     ]
    }
   ],
   "source": [
    "count = 0\n",
    "for item in d :\n",
    "    desc, label = item\n",
    "    \n",
    "    if (\"sweepstakes\" in desc) :\n",
    "        print(desc)\n",
    "        print(label)\n",
    "        print(\"\\n\")\n",
    "        count += 1\n",
    "\n",
    "    if count > 5 :\n",
    "        break\n",
    "        \n"
   ]
  },
  {
   "cell_type": "markdown",
   "metadata": {},
   "source": [
    "Do these features seem more informative? "
   ]
  }
 ],
 "metadata": {
  "kernelspec": {
   "display_name": "Python 3",
   "language": "python",
   "name": "python3"
  },
  "language_info": {
   "codemirror_mode": {
    "name": "ipython",
    "version": 3
   },
   "file_extension": ".py",
   "mimetype": "text/x-python",
   "name": "python",
   "nbconvert_exporter": "python",
   "pygments_lexer": "ipython3",
   "version": "3.6.6"
  }
 },
 "nbformat": 4,
 "nbformat_minor": 2
}
