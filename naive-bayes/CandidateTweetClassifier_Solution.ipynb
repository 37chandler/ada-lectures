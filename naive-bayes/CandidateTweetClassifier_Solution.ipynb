{
 "cells": [
  {
   "cell_type": "markdown",
   "metadata": {},
   "source": [
    "## Exploring Congressional Candidate Tweets\n",
    "\n",
    "Let's look at congressional candidate tweets via NB."
   ]
  },
  {
   "cell_type": "code",
   "execution_count": null,
   "metadata": {
    "collapsed": true
   },
   "outputs": [],
   "source": [
    "import nltk\n",
    "import random\n",
    "from string import punctuation\n",
    "from pprint import pprint\n",
    "import sqlite3\n",
    "from collections import defaultdict, Counter"
   ]
  },
  {
   "cell_type": "code",
   "execution_count": null,
   "metadata": {
    "collapsed": true
   },
   "outputs": [],
   "source": [
    "# Link up to congressional candidate DB\n",
    "db = sqlite3.connect(\"C:\\\\Users\\\\jchan\\\\Dropbox\\\\Teaching\\\\AppliedDataAnalytics\\\\ada-master\\\\congressional-candidates\\\\\" + \n",
    "                      \"congressional_data.db\")\n",
    "\n",
    "cur = db.cursor()"
   ]
  },
  {
   "cell_type": "code",
   "execution_count": null,
   "metadata": {
    "collapsed": false
   },
   "outputs": [],
   "source": [
    "cur.execute(\"\"\"SELECT t.candidate, c.party, t.tweet_text \n",
    "               FROM tweets t\n",
    "               INNER JOIN candidate_data c on c.district=t.district\"\"\")"
   ]
  },
  {
   "cell_type": "code",
   "execution_count": null,
   "metadata": {
    "collapsed": false
   },
   "outputs": [],
   "source": [
    "num_tweets = 0\n",
    "\n",
    "d = defaultdict(lambda: defaultdict(list))\n",
    "for row in cur.fetchall() :\n",
    "    cand, party, text = row\n",
    "    d[cand][party].append(text)\n",
    "    num_tweets += 1\n",
    "    \n",
    "print(\"We have {} tweets.\".format(num_tweets))\n",
    "    "
   ]
  },
  {
   "cell_type": "code",
   "execution_count": null,
   "metadata": {
    "collapsed": true
   },
   "outputs": [],
   "source": [
    "def tweet_features(the_tweet) :\n",
    "    \"\"\" Input: A tweet\n",
    "        Output: A dictionary listing the words that are in \n",
    "                the description.\n",
    "                \n",
    "        This function does some cleaning on the descriptions,\n",
    "        removing some punctuation, splitting on whitespace, \n",
    "        dropping to lower case. It returns a dictionary \n",
    "        of the form \n",
    "            {example : True,\n",
    "             word :    True}\n",
    "    \n",
    "        \"\"\"\n",
    "    exclude = set(punctuation)\n",
    "    exclude.remove(\"#\") #useful for twitter...\n",
    "    exclude.remove(\"@\") #ditto\n",
    "    exclude.add(\"“\")\n",
    "    exclude.add(\"”\")\n",
    "    \n",
    "    # Found this at https://stackoverflow.com/questions/265960/best-way-to-strip-punctuation-from-a-string-in-python\n",
    "    the_tweet = ''.join([ch.lower() for ch in the_tweet if ch not in exclude])\n",
    "    \n",
    "    word_list = the_tweet.split()\n",
    "\n",
    "    ret_val = {}\n",
    "    \n",
    "    for word in word_list :\n",
    "        ret_val[word] = True\n",
    "    \n",
    "    return(ret_val)"
   ]
  },
  {
   "cell_type": "code",
   "execution_count": null,
   "metadata": {
    "collapsed": false
   },
   "outputs": [],
   "source": [
    "# build dataset for NB\n",
    "featuresets = []\n",
    "counter = 0\n",
    "for candidate in d :\n",
    "    for party in d[candidate] :\n",
    "        for tweet in d[candidate][party] :\n",
    "            if party in [\"Democratic\",\"Republican\"] : \n",
    "                featuresets.append((tweet_features(tweet.decode(\"utf-8\")),\n",
    "                                    party))\n",
    "\n",
    "                counter += 1\n",
    "                if counter > 300000 :\n",
    "                    break\n",
    "        "
   ]
  },
  {
   "cell_type": "code",
   "execution_count": null,
   "metadata": {
    "collapsed": false
   },
   "outputs": [],
   "source": [
    "test_set_size = int(0.1*len(featuresets))\n",
    "\n",
    "train_set, test_set = featuresets[test_set_size:], featuresets[:test_set_size]\n",
    "classifier = nltk.NaiveBayesClassifier.train(train_set)"
   ]
  },
  {
   "cell_type": "markdown",
   "metadata": {},
   "source": [
    "How'd we do?"
   ]
  },
  {
   "cell_type": "code",
   "execution_count": null,
   "metadata": {
    "collapsed": false
   },
   "outputs": [],
   "source": [
    "print(nltk.classify.accuracy(classifier, test_set))"
   ]
  },
  {
   "cell_type": "code",
   "execution_count": null,
   "metadata": {
    "collapsed": false
   },
   "outputs": [],
   "source": [
    "classifier.show_most_informative_features(40)"
   ]
  },
  {
   "cell_type": "markdown",
   "metadata": {},
   "source": [
    "---"
   ]
  },
  {
   "cell_type": "code",
   "execution_count": null,
   "metadata": {
    "collapsed": true
   },
   "outputs": [],
   "source": [
    "# Now I'll try to make a better classifier, dropping @ and stopwords.\n",
    "\n",
    "sw = set(nltk.corpus.stopwords.words(\"english\"))"
   ]
  },
  {
   "cell_type": "code",
   "execution_count": null,
   "metadata": {
    "collapsed": true
   },
   "outputs": [],
   "source": [
    "def tweet_features_2(the_tweet) :\n",
    "    \"\"\" Input: A twitter description\n",
    "        Output: A dictionary listing the words that are in \n",
    "                the description.\n",
    "                \n",
    "        This function does some cleaning on the descriptions,\n",
    "        removing some punctuation, splitting on whitespace, \n",
    "        dropping to lower case. It returns a dictionary \n",
    "        of the form \n",
    "            {example : True,\n",
    "             word :    True}\n",
    "    \n",
    "        \"\"\"\n",
    "    exclude = set(punctuation)\n",
    "    exclude.remove(\"#\") #useful for twitter...\n",
    "    exclude.remove(\"@\") #ditto\n",
    "    exclude.add(\"“\")\n",
    "    exclude.add(\"”\")\n",
    "    \n",
    "    # Found this at https://stackoverflow.com/questions/265960/best-way-to-strip-punctuation-from-a-string-in-python\n",
    "    the_tweet = ''.join([ch.lower() for ch in the_tweet if ch not in exclude])\n",
    "    \n",
    "    word_list = the_tweet.split()\n",
    "    \n",
    "    word_list = [w for w in word_list if \"@\" not in w and w not in sw]\n",
    "    \n",
    "    # Optionally drop hashtags too\n",
    "    word_list = [w for w in word_list if \"#\" not in w]\n",
    "\n",
    "    ret_val = {}\n",
    "    \n",
    "    for word in word_list :\n",
    "        ret_val[word] = True\n",
    "    \n",
    "    return(ret_val)"
   ]
  },
  {
   "cell_type": "code",
   "execution_count": null,
   "metadata": {
    "collapsed": true
   },
   "outputs": [],
   "source": [
    "featuresets = []\n",
    "counter = 0\n",
    "for candidate in d :\n",
    "    for party in d[candidate] :\n",
    "        for tweet in d[candidate][party] :\n",
    "            if party in [\"Democratic\",\"Republican\"] : \n",
    "                featuresets.append((tweet_features_2(tweet.decode(\"utf-8\")),\n",
    "                                    party))\n",
    "\n",
    "                counter += 1\n",
    "#                if counter > 300000 :\n",
    "#                    break\n"
   ]
  },
  {
   "cell_type": "code",
   "execution_count": null,
   "metadata": {
    "collapsed": true
   },
   "outputs": [],
   "source": [
    "test_set_size = int(0.1*len(featuresets))\n",
    "\n",
    "train_set, test_set = featuresets[test_set_size:], featuresets[:test_set_size]\n",
    "classifier = nltk.NaiveBayesClassifier.train(train_set)"
   ]
  },
  {
   "cell_type": "code",
   "execution_count": null,
   "metadata": {
    "collapsed": false
   },
   "outputs": [],
   "source": [
    "print(nltk.classify.accuracy(classifier, test_set))"
   ]
  },
  {
   "cell_type": "code",
   "execution_count": null,
   "metadata": {
    "collapsed": false
   },
   "outputs": [],
   "source": [
    "Counter([p for f,p in featuresets])"
   ]
  },
  {
   "cell_type": "code",
   "execution_count": null,
   "metadata": {
    "collapsed": false
   },
   "outputs": [],
   "source": [
    "classifier.show_most_informative_features(40)"
   ]
  }
 ],
 "metadata": {
  "kernelspec": {
   "display_name": "Python 3",
   "language": "python",
   "name": "python3"
  },
  "language_info": {
   "codemirror_mode": {
    "name": "ipython",
    "version": 3
   },
   "file_extension": ".py",
   "mimetype": "text/x-python",
   "name": "python",
   "nbconvert_exporter": "python",
   "pygments_lexer": "ipython3",
   "version": "3.6.6"
  }
 },
 "nbformat": 4,
 "nbformat_minor": 2
}
