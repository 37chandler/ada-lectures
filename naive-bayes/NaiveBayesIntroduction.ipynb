{
 "cells": [
  {
   "cell_type": "markdown",
   "metadata": {},
   "source": [
    "## Naive Bayes Classifiers: Introduction\n",
    "A powerful and intutitive technique. File this one away, it'll often teach you a lot about a problem, even if it doesn't \"win\" the accuracy game. First some examples from NLTK."
   ]
  },
  {
   "cell_type": "code",
   "execution_count": 1,
   "metadata": {
    "collapsed": true
   },
   "outputs": [],
   "source": [
    "import nltk\n",
    "\n",
    "from nltk.corpus import names\n",
    "import random\n",
    "\n",
    "# Create some labeled observations\n",
    "labeled_names = ([(name, 'male') for name in names.words('male.txt')] +\n",
    "                 [(name, 'female') for name in names.words('female.txt')])\n",
    "\n",
    "# shuffle so that we can have a training and test set\n",
    "random.shuffle(labeled_names)"
   ]
  },
  {
   "cell_type": "markdown",
   "metadata": {},
   "source": [
    "Take a look at labeled_names, to get a sense for what's in there. This is always a good idea."
   ]
  },
  {
   "cell_type": "code",
   "execution_count": 2,
   "metadata": {
    "collapsed": false
   },
   "outputs": [
    {
     "data": {
      "text/plain": [
       "[('Chandler', 'male'),\n",
       " ('Tonnie', 'male'),\n",
       " ('Minny', 'female'),\n",
       " ('Catlee', 'female'),\n",
       " ('Gertrudis', 'female')]"
      ]
     },
     "execution_count": 2,
     "metadata": {},
     "output_type": "execute_result"
    }
   ],
   "source": [
    "labeled_names[:5]"
   ]
  },
  {
   "cell_type": "code",
   "execution_count": 3,
   "metadata": {
    "collapsed": true
   },
   "outputs": [],
   "source": [
    "# For the purposes of this toy example, we just use the last letters as our only feature\n",
    "def gender_features(word):\n",
    "    return {'last_letter': word[-1]}"
   ]
  },
  {
   "cell_type": "markdown",
   "metadata": {},
   "source": [
    "For this next line, read a bit about what's going on with this classifier [here](http://www.nltk.org/book/ch06.html). "
   ]
  },
  {
   "cell_type": "code",
   "execution_count": 4,
   "metadata": {
    "collapsed": false
   },
   "outputs": [],
   "source": [
    "featuresets = [(gender_features(n), gender) for (n, gender) in labeled_names]\n",
    "train_set, test_set = featuresets[500:], featuresets[:500]\n",
    "classifier = nltk.NaiveBayesClassifier.train(train_set)"
   ]
  },
  {
   "cell_type": "code",
   "execution_count": 10,
   "metadata": {
    "collapsed": false
   },
   "outputs": [
    {
     "data": {
      "text/plain": [
       "[({'last_letter': 'r'}, 'male'),\n",
       " ({'last_letter': 'e'}, 'male'),\n",
       " ({'last_letter': 'y'}, 'female'),\n",
       " ({'last_letter': 'e'}, 'female'),\n",
       " ({'last_letter': 's'}, 'female'),\n",
       " ({'last_letter': 'a'}, 'female'),\n",
       " ({'last_letter': 'o'}, 'male'),\n",
       " ({'last_letter': 'a'}, 'female'),\n",
       " ({'last_letter': 't'}, 'male'),\n",
       " ({'last_letter': 'n'}, 'male')]"
      ]
     },
     "execution_count": 10,
     "metadata": {},
     "output_type": "execute_result"
    }
   ],
   "source": [
    "featuresets[:10]"
   ]
  },
  {
   "cell_type": "markdown",
   "metadata": {},
   "source": [
    "Take a look at `featuresets`. What kind of data structure is it? What are the elements within it?"
   ]
  },
  {
   "cell_type": "code",
   "execution_count": 5,
   "metadata": {
    "collapsed": false
   },
   "outputs": [
    {
     "name": "stdout",
     "output_type": "stream",
     "text": [
      "0.76\n"
     ]
    }
   ],
   "source": [
    "# NLTK makes it easy to evaluate the accuracy of the rule.\n",
    "print(nltk.classify.accuracy(classifier, test_set))"
   ]
  },
  {
   "cell_type": "markdown",
   "metadata": {},
   "source": [
    "Let's see how the classifier does on our class. Fill in the gaps below. "
   ]
  },
  {
   "cell_type": "code",
   "execution_count": 6,
   "metadata": {
    "collapsed": false
   },
   "outputs": [
    {
     "ename": "SyntaxError",
     "evalue": "invalid syntax (<ipython-input-6-107ad8c6174c>, line 1)",
     "output_type": "error",
     "traceback": [
      "\u001b[1;36m  File \u001b[1;32m\"<ipython-input-6-107ad8c6174c>\"\u001b[1;36m, line \u001b[1;32m1\u001b[0m\n\u001b[1;33m    our_class = # make this a list of first names in our class\u001b[0m\n\u001b[1;37m                                                              ^\u001b[0m\n\u001b[1;31mSyntaxError\u001b[0m\u001b[1;31m:\u001b[0m invalid syntax\n"
     ]
    }
   ],
   "source": [
    "our_class = # make this a list of first names in our class\n",
    "\n",
    "for student in our_class :\n",
    "    print(student + \" classified as \" + classifier.classify(gender_features(student)))\n",
    "\n",
    "# What's the overall accuracy? \n"
   ]
  },
  {
   "cell_type": "markdown",
   "metadata": {},
   "source": [
    "We might reasonably ask, how many males and females do we have in each group? Below we see two ways of displaying that information."
   ]
  },
  {
   "cell_type": "code",
   "execution_count": 7,
   "metadata": {
    "collapsed": false
   },
   "outputs": [
    {
     "data": {
      "text/plain": [
       "2943"
      ]
     },
     "execution_count": 7,
     "metadata": {},
     "output_type": "execute_result"
    }
   ],
   "source": [
    "# This method takes more typing, but may \n",
    "# be easier to read.\n",
    "\n",
    "num_males = 0\n",
    "\n",
    "for item in featuresets :\n",
    "    dd, gender = item\n",
    "        \n",
    "    if gender == \"male\" :\n",
    "        num_males += 1\n",
    "    \n",
    "num_males"
   ]
  },
  {
   "cell_type": "code",
   "execution_count": 8,
   "metadata": {
    "collapsed": false
   },
   "outputs": [
    {
     "data": {
      "text/plain": [
       "Counter({'female': 5001, 'male': 2943})"
      ]
     },
     "execution_count": 8,
     "metadata": {},
     "output_type": "execute_result"
    }
   ],
   "source": [
    "# This approach is more pythonic, but also harder to understand.\n",
    "# When you try to interpret it, remember to start with the innermost\n",
    "# part (probably the `for` loop here). \n",
    "\n",
    "from collections import Counter\n",
    "\n",
    "Counter([gender for dd, gender in featuresets])"
   ]
  },
  {
   "cell_type": "code",
   "execution_count": 9,
   "metadata": {
    "collapsed": false
   },
   "outputs": [
    {
     "name": "stdout",
     "output_type": "stream",
     "text": [
      "Most Informative Features\n",
      "             last_letter = 'k'              male : female =     41.6 : 1.0\n",
      "             last_letter = 'a'            female : male   =     33.5 : 1.0\n",
      "             last_letter = 'f'              male : female =     13.2 : 1.0\n",
      "             last_letter = 'v'              male : female =     11.2 : 1.0\n",
      "             last_letter = 'p'              male : female =     10.5 : 1.0\n",
      "             last_letter = 'd'              male : female =      9.5 : 1.0\n",
      "             last_letter = 'o'              male : female =      8.8 : 1.0\n",
      "             last_letter = 'm'              male : female =      8.5 : 1.0\n",
      "             last_letter = 'r'              male : female =      6.7 : 1.0\n",
      "             last_letter = 'w'              male : female =      6.2 : 1.0\n",
      "             last_letter = 'g'              male : female =      5.2 : 1.0\n",
      "             last_letter = 's'              male : female =      4.5 : 1.0\n",
      "             last_letter = 'z'              male : female =      4.3 : 1.0\n",
      "             last_letter = 't'              male : female =      4.1 : 1.0\n",
      "             last_letter = 'j'              male : female =      3.9 : 1.0\n",
      "             last_letter = 'u'              male : female =      3.8 : 1.0\n",
      "             last_letter = 'i'            female : male   =      3.7 : 1.0\n",
      "             last_letter = 'b'              male : female =      3.7 : 1.0\n",
      "             last_letter = 'n'              male : female =      2.1 : 1.0\n",
      "             last_letter = 'e'            female : male   =      1.8 : 1.0\n",
      "             last_letter = 'l'              male : female =      1.8 : 1.0\n",
      "             last_letter = 'x'              male : female =      1.7 : 1.0\n",
      "             last_letter = 'h'              male : female =      1.5 : 1.0\n",
      "             last_letter = 'y'              male : female =      1.3 : 1.0\n"
     ]
    }
   ],
   "source": [
    "# let's just look at all the features. Usually you'd only show a few\n",
    "classifier.show_most_informative_features(26)"
   ]
  },
  {
   "cell_type": "markdown",
   "metadata": {},
   "source": [
    "How should we interpret those columns above? \n",
    "\n",
    "--- \n",
    "\n",
    "The lecture mentions the idea of building a dev-test set, in addition to the test and train sets above. Let's do that now so that we can build up some more complicated feature extractors."
   ]
  },
  {
   "cell_type": "code",
   "execution_count": 11,
   "metadata": {
    "collapsed": true
   },
   "outputs": [],
   "source": [
    "random.shuffle(labeled_names) # Use this to shuffle in place to build training and test set"
   ]
  },
  {
   "cell_type": "code",
   "execution_count": 12,
   "metadata": {
    "collapsed": true
   },
   "outputs": [],
   "source": [
    "test_size = 500\n",
    "devtest_size = 1000\n",
    "\n",
    "train_names = labeled_names[(test_size + devtest_size):]\n",
    "devtest_names = labeled_names[test_size:(test_size + devtest_size)]\n",
    "test_names = labeled_names[:test_size]"
   ]
  },
  {
   "cell_type": "code",
   "execution_count": 13,
   "metadata": {
    "collapsed": false
   },
   "outputs": [],
   "source": [
    "errors = []\n",
    "for (name, tag) in devtest_names:\n",
    "    guess = classifier.classify(gender_features(name))\n",
    "    if guess != tag:\n",
    "        errors.append( (tag, guess, name) )"
   ]
  },
  {
   "cell_type": "markdown",
   "metadata": {},
   "source": [
    "Run the code below. Look at the kind of names that are being misclassified. As you do that, think about rules you migth design that would correct these mistakes.  "
   ]
  },
  {
   "cell_type": "code",
   "execution_count": 14,
   "metadata": {
    "collapsed": false
   },
   "outputs": [
    {
     "name": "stdout",
     "output_type": "stream",
     "text": [
      "correct=female   guess=male     name=Adrien                        \n",
      "correct=female   guess=male     name=Alison                        \n",
      "correct=female   guess=male     name=Angil                         \n",
      "correct=female   guess=male     name=Arlen                         \n",
      "correct=female   guess=male     name=Aryn                          \n",
      "correct=female   guess=male     name=Avrit                         \n",
      "correct=female   guess=male     name=Bab                           \n",
      "correct=female   guess=male     name=Bell                          \n",
      "correct=female   guess=male     name=Brett                         \n",
      "correct=female   guess=male     name=Brigit                        \n",
      "correct=female   guess=male     name=Britt                         \n",
      "correct=female   guess=male     name=Brooks                        \n",
      "correct=female   guess=male     name=Candis                        \n",
      "correct=female   guess=male     name=Carlin                        \n",
      "correct=female   guess=male     name=Carmon                        \n",
      "correct=female   guess=male     name=Carol                         \n",
      "correct=female   guess=male     name=Caroljean                     \n",
      "correct=female   guess=male     name=Catherin                      \n",
      "correct=female   guess=male     name=Charlott                      \n",
      "correct=female   guess=male     name=Charmain                      \n",
      "correct=female   guess=male     name=Charmion                      \n",
      "correct=female   guess=male     name=Cheryl                        \n",
      "correct=female   guess=male     name=Chriss                        \n",
      "correct=female   guess=male     name=Christabel                    \n",
      "correct=female   guess=male     name=Chrystel                      \n",
      "correct=female   guess=male     name=Cindelyn                      \n",
      "correct=female   guess=male     name=Clair                         \n",
      "correct=female   guess=male     name=Cloris                        \n",
      "correct=female   guess=male     name=Coriss                        \n",
      "correct=female   guess=male     name=Darleen                       \n",
      "correct=female   guess=male     name=Dawn                          \n",
      "correct=female   guess=male     name=Delores                       \n",
      "correct=female   guess=male     name=Dew                           \n",
      "correct=female   guess=male     name=Doris                         \n",
      "correct=female   guess=male     name=Easter                        \n",
      "correct=female   guess=male     name=Eileen                        \n",
      "correct=female   guess=male     name=Elinor                        \n",
      "correct=female   guess=male     name=Ellyn                         \n",
      "correct=female   guess=male     name=Estell                        \n",
      "correct=female   guess=male     name=Ester                         \n",
      "correct=female   guess=male     name=Fanchon                       \n",
      "correct=female   guess=male     name=Fiann                         \n",
      "correct=female   guess=male     name=Francis                       \n",
      "correct=female   guess=male     name=Fred                          \n",
      "correct=female   guess=male     name=Gert                          \n",
      "correct=female   guess=male     name=Gertrud                       \n",
      "correct=female   guess=male     name=Gill                          \n",
      "correct=female   guess=male     name=Glynnis                       \n",
      "correct=female   guess=male     name=Greer                         \n",
      "correct=female   guess=male     name=Gunvor                        \n",
      "correct=female   guess=male     name=Helen                         \n",
      "correct=female   guess=male     name=Honor                         \n",
      "correct=female   guess=male     name=Ingaberg                      \n",
      "correct=female   guess=male     name=Ingeborg                      \n",
      "correct=female   guess=male     name=Isobel                        \n",
      "correct=female   guess=male     name=Ivett                         \n",
      "correct=female   guess=male     name=Jackquelin                    \n",
      "correct=female   guess=male     name=Jaclyn                        \n",
      "correct=female   guess=male     name=Jazmin                        \n",
      "correct=female   guess=male     name=Jessalyn                      \n",
      "correct=female   guess=male     name=Jewell                        \n",
      "correct=female   guess=male     name=Juliet                        \n",
      "correct=female   guess=male     name=Justin                        \n",
      "correct=female   guess=male     name=Kaitlin                       \n",
      "correct=female   guess=male     name=Kameko                        \n",
      "correct=female   guess=male     name=Karalynn                      \n",
      "correct=female   guess=male     name=Karin                         \n",
      "correct=female   guess=male     name=Karmen                        \n",
      "correct=female   guess=male     name=Karol                         \n",
      "correct=female   guess=male     name=Kat                           \n",
      "correct=female   guess=male     name=Kim                           \n",
      "correct=female   guess=male     name=Kip                           \n",
      "correct=female   guess=male     name=Koren                         \n",
      "correct=female   guess=male     name=Kristen                       \n",
      "correct=female   guess=male     name=Lillis                        \n",
      "correct=female   guess=male     name=Lind                          \n",
      "correct=female   guess=male     name=Linnell                       \n",
      "correct=female   guess=male     name=Liz                           \n",
      "correct=female   guess=male     name=Lyndell                       \n",
      "correct=female   guess=male     name=Magdalen                      \n",
      "correct=female   guess=male     name=Maren                         \n",
      "correct=female   guess=male     name=Margaret                      \n",
      "correct=female   guess=male     name=Mariam                        \n",
      "correct=female   guess=male     name=Marie-Ann                     \n",
      "correct=female   guess=male     name=Marigold                      \n",
      "correct=female   guess=male     name=Marin                         \n",
      "correct=female   guess=male     name=Marion                        \n",
      "correct=female   guess=male     name=Maris                         \n",
      "correct=female   guess=male     name=Marlo                         \n",
      "correct=female   guess=male     name=Maureen                       \n",
      "correct=female   guess=male     name=Meaghan                       \n",
      "correct=female   guess=male     name=Mehetabel                     \n",
      "correct=female   guess=male     name=Michell                       \n",
      "correct=female   guess=male     name=Mignon                        \n",
      "correct=female   guess=male     name=Milissent                     \n",
      "correct=female   guess=male     name=Nadean                        \n",
      "correct=female   guess=male     name=Nan                           \n",
      "correct=female   guess=male     name=Nert                          \n",
      "correct=female   guess=male     name=Nicol                         \n",
      "correct=female   guess=male     name=Noellyn                       \n",
      "correct=female   guess=male     name=Noreen                        \n",
      "correct=female   guess=male     name=Pearl                         \n",
      "correct=female   guess=male     name=Phylys                        \n",
      "correct=female   guess=male     name=Piper                         \n",
      "correct=female   guess=male     name=Pris                          \n",
      "correct=female   guess=male     name=Rachel                        \n",
      "correct=female   guess=male     name=Raychel                       \n",
      "correct=female   guess=male     name=Rayshell                      \n",
      "correct=female   guess=male     name=Renel                         \n",
      "correct=female   guess=male     name=Rhiamon                       \n",
      "correct=female   guess=male     name=Rianon                        \n",
      "correct=female   guess=male     name=Ros                           \n",
      "correct=female   guess=male     name=Rosario                       \n",
      "correct=female   guess=male     name=Rozalin                       \n",
      "correct=female   guess=male     name=Rozamond                      \n",
      "correct=female   guess=male     name=Sheila-Kathryn                \n",
      "correct=female   guess=male     name=Sheril                        \n",
      "correct=female   guess=male     name=Sib                           \n",
      "correct=female   guess=male     name=Sibeal                        \n",
      "correct=female   guess=male     name=Sileas                        \n",
      "correct=female   guess=male     name=Sinead                        \n",
      "correct=female   guess=male     name=Storm                         \n",
      "correct=female   guess=male     name=Susan                         \n",
      "correct=female   guess=male     name=Suzan                         \n",
      "correct=female   guess=male     name=Theo                          \n",
      "correct=female   guess=male     name=Tim                           \n",
      "correct=female   guess=male     name=Winnifred                     \n",
      "correct=male     guess=female   name=Aguste                        \n",
      "correct=male     guess=female   name=Ajai                          \n",
      "correct=male     guess=female   name=Alex                          \n",
      "correct=male     guess=female   name=Alfonse                       \n",
      "correct=male     guess=female   name=Ali                           \n",
      "correct=male     guess=female   name=Allah                         \n",
      "correct=male     guess=female   name=Amery                         \n",
      "correct=male     guess=female   name=Anatoly                       \n",
      "correct=male     guess=female   name=Archy                         \n",
      "correct=male     guess=female   name=Arie                          \n",
      "correct=male     guess=female   name=Arnie                         \n",
      "correct=male     guess=female   name=Avery                         \n",
      "correct=male     guess=female   name=Bailie                        \n",
      "correct=male     guess=female   name=Barde                         \n",
      "correct=male     guess=female   name=Bela                          \n",
      "correct=male     guess=female   name=Blare                         \n",
      "correct=male     guess=female   name=Bobbie                        \n",
      "correct=male     guess=female   name=Brady                         \n",
      "correct=male     guess=female   name=Broddy                        \n",
      "correct=male     guess=female   name=Brodie                        \n",
      "correct=male     guess=female   name=Buddy                         \n",
      "correct=male     guess=female   name=Burke                         \n",
      "correct=male     guess=female   name=Cary                          \n",
      "correct=male     guess=female   name=Case                          \n",
      "correct=male     guess=female   name=Casey                         \n",
      "correct=male     guess=female   name=Chancey                       \n",
      "correct=male     guess=female   name=Chase                         \n",
      "correct=male     guess=female   name=Che                           \n",
      "correct=male     guess=female   name=Christoph                     \n",
      "correct=male     guess=female   name=Claybourne                    \n",
      "correct=male     guess=female   name=Connie                        \n",
      "correct=male     guess=female   name=Corky                         \n",
      "correct=male     guess=female   name=Daffy                         \n",
      "correct=male     guess=female   name=Dane                          \n",
      "correct=male     guess=female   name=Danny                         \n",
      "correct=male     guess=female   name=Darcy                         \n",
      "correct=male     guess=female   name=Davidde                       \n",
      "correct=male     guess=female   name=Dougie                        \n",
      "correct=male     guess=female   name=Doyle                         \n",
      "correct=male     guess=female   name=Duffie                        \n",
      "correct=male     guess=female   name=Dwane                         \n",
      "correct=male     guess=female   name=Dwayne                        \n",
      "correct=male     guess=female   name=Eli                           \n",
      "correct=male     guess=female   name=Felipe                        \n",
      "correct=male     guess=female   name=Felix                         \n",
      "correct=male     guess=female   name=Fonzie                        \n",
      "correct=male     guess=female   name=Fox                           \n",
      "correct=male     guess=female   name=Gayle                         \n",
      "correct=male     guess=female   name=Gerri                         \n",
      "correct=male     guess=female   name=Gerry                         \n",
      "correct=male     guess=female   name=Godfry                        \n",
      "correct=male     guess=female   name=Gregory                       \n",
      "correct=male     guess=female   name=Hewe                          \n",
      "correct=male     guess=female   name=Holly                         \n",
      "correct=male     guess=female   name=Horace                        \n",
      "correct=male     guess=female   name=Ira                           \n",
      "correct=male     guess=female   name=Jae                           \n",
      "correct=male     guess=female   name=Jessee                        \n",
      "correct=male     guess=female   name=Jessie                        \n",
      "correct=male     guess=female   name=Johny                         \n",
      "correct=male     guess=female   name=Joseph                        \n",
      "correct=male     guess=female   name=Joshua                        \n",
      "correct=male     guess=female   name=Kane                          \n",
      "correct=male     guess=female   name=Kermie                        \n",
      "correct=male     guess=female   name=Larry                         \n",
      "correct=male     guess=female   name=Lawerence                     \n",
      "correct=male     guess=female   name=Lazare                        \n",
      "correct=male     guess=female   name=Lennie                        \n",
      "correct=male     guess=female   name=Leslie                        \n",
      "correct=male     guess=female   name=Luce                          \n",
      "correct=male     guess=female   name=Marsh                         \n",
      "correct=male     guess=female   name=Martie                        \n",
      "correct=male     guess=female   name=Maurise                       \n",
      "correct=male     guess=female   name=Nickey                        \n",
      "correct=male     guess=female   name=Nikki                         \n",
      "correct=male     guess=female   name=Noe                           \n",
      "correct=male     guess=female   name=Ole                           \n",
      "correct=male     guess=female   name=Pace                          \n",
      "correct=male     guess=female   name=Page                          \n",
      "correct=male     guess=female   name=Pascale                       \n",
      "correct=male     guess=female   name=Ravi                          \n",
      "correct=male     guess=female   name=Reece                         \n",
      "correct=male     guess=female   name=Rey                           \n",
      "correct=male     guess=female   name=Rice                          \n",
      "correct=male     guess=female   name=Roderich                      \n",
      "correct=male     guess=female   name=Ronny                         \n",
      "correct=male     guess=female   name=Rube                          \n",
      "correct=male     guess=female   name=Sammy                         \n",
      "correct=male     guess=female   name=Scottie                       \n",
      "correct=male     guess=female   name=Shea                          \n",
      "correct=male     guess=female   name=Sherlocke                     \n",
      "correct=male     guess=female   name=Skippie                       \n",
      "correct=male     guess=female   name=Sloane                        \n",
      "correct=male     guess=female   name=Smith                         \n",
      "correct=male     guess=female   name=Stevy                         \n",
      "correct=male     guess=female   name=Tallie                        \n",
      "correct=male     guess=female   name=Tammie                        \n",
      "correct=male     guess=female   name=Tammy                         \n",
      "correct=male     guess=female   name=Tannie                        \n",
      "correct=male     guess=female   name=Tarrance                      \n",
      "correct=male     guess=female   name=Terrence                      \n",
      "correct=male     guess=female   name=Thaine                        \n",
      "correct=male     guess=female   name=Thornie                       \n",
      "correct=male     guess=female   name=Tome                          \n",
      "correct=male     guess=female   name=Tucky                         \n",
      "correct=male     guess=female   name=Uli                           \n",
      "correct=male     guess=female   name=Valentine                     \n",
      "correct=male     guess=female   name=Verge                         \n",
      "correct=male     guess=female   name=Vinny                         \n",
      "correct=male     guess=female   name=Wadsworth                     \n",
      "correct=male     guess=female   name=Waite                         \n",
      "correct=male     guess=female   name=Wally                         \n",
      "correct=male     guess=female   name=Wash                          \n",
      "correct=male     guess=female   name=Waverley                      \n",
      "correct=male     guess=female   name=Way                           \n",
      "correct=male     guess=female   name=Wesley                        \n",
      "correct=male     guess=female   name=Yancy                         \n",
      "correct=male     guess=female   name=Yardley                       \n",
      "correct=male     guess=female   name=Zachariah                     \n",
      "correct=male     guess=female   name=Zackariah                     \n"
     ]
    }
   ],
   "source": [
    "for (tag, guess, name) in sorted(errors):\n",
    "    print('correct={:<8} guess={:<8s} name={:<30}'.format(tag, guess, name))"
   ]
  },
  {
   "cell_type": "markdown",
   "metadata": {},
   "source": [
    "Now you're going to start building your own feature extractor. "
   ]
  },
  {
   "cell_type": "code",
   "execution_count": 26,
   "metadata": {
    "collapsed": true
   },
   "outputs": [],
   "source": [
    "# build your own function. Here's an example to\n",
    "# help you get the syntax right. \n",
    "def gender_features_2(word):\n",
    "    ''' This function should take in a word and return a dictionary\n",
    "        with the name of the feature as the key and the value \n",
    "        as the feature value. '''\n",
    "    ll = word[-1]\n",
    "    penultimate = word[-2]\n",
    "    last_3 = word[-3:]\n",
    "    has_bob = \"bob\" in word\n",
    "    \n",
    "    letters_2_3 = word[1:3]\n",
    "    ends_in_lyn = \"lyn\" == last_3\n",
    "    \n",
    "#    ret_dict = {'last_letter':ll,\n",
    "#                'penultimate_y':(penultimate==\"y\"),\n",
    "#                'last_3':last_3,\n",
    "#                'has_bob' : has_bob}\n",
    "\n",
    "    ret_dict = {'letters_2_3': letters_2_3,\n",
    "                'lyn':ends_in_lyn,\n",
    "                'll':ll}\n",
    "\n",
    "    return (ret_dict)"
   ]
  },
  {
   "cell_type": "code",
   "execution_count": 21,
   "metadata": {
    "collapsed": false
   },
   "outputs": [
    {
     "data": {
      "text/plain": [
       "{'letters_2_3': 'ob', 'lyn': False}"
      ]
     },
     "execution_count": 21,
     "metadata": {},
     "output_type": "execute_result"
    }
   ],
   "source": [
    "# let's look at an output\n",
    "gender_features_2(\"bobby\")"
   ]
  },
  {
   "cell_type": "markdown",
   "metadata": {},
   "source": [
    "Now let's form our new training and dev-test sets. "
   ]
  },
  {
   "cell_type": "code",
   "execution_count": 27,
   "metadata": {
    "collapsed": false
   },
   "outputs": [],
   "source": [
    "train_set = [(gender_features_2(n), gender) for (n, gender) in train_names]\n",
    "devtest_set = [(gender_features_2(n), gender) for (n, gender) in devtest_names]"
   ]
  },
  {
   "cell_type": "markdown",
   "metadata": {},
   "source": [
    "Let's train this new code on the training set and evaluate it on the _development_ test set. "
   ]
  },
  {
   "cell_type": "code",
   "execution_count": 28,
   "metadata": {
    "collapsed": false
   },
   "outputs": [
    {
     "name": "stdout",
     "output_type": "stream",
     "text": [
      "0.761\n"
     ]
    }
   ],
   "source": [
    "classifier = nltk.NaiveBayesClassifier.train(train_set)\n",
    "print(nltk.classify.accuracy(classifier, devtest_set))"
   ]
  },
  {
   "cell_type": "markdown",
   "metadata": {},
   "source": [
    "We can look at the most informative features..."
   ]
  },
  {
   "cell_type": "code",
   "execution_count": 29,
   "metadata": {
    "collapsed": false
   },
   "outputs": [
    {
     "name": "stdout",
     "output_type": "stream",
     "text": [
      "Most Informative Features\n",
      "                      ll = 'a'            female : male   =     37.4 : 1.0\n",
      "                      ll = 'k'              male : female =     24.9 : 1.0\n",
      "                      ll = 'p'              male : female =     18.6 : 1.0\n",
      "                      ll = 'f'              male : female =     12.5 : 1.0\n",
      "                      ll = 'd'              male : female =     10.5 : 1.0\n",
      "                      ll = 'm'              male : female =     10.4 : 1.0\n",
      "                     lyn = True           female : male   =     10.3 : 1.0\n",
      "                      ll = 'v'              male : female =      9.8 : 1.0\n",
      "                      ll = 'o'              male : female =      8.1 : 1.0\n",
      "             letters_2_3 = 'is'           female : male   =      7.4 : 1.0\n"
     ]
    }
   ],
   "source": [
    "classifier.show_most_informative_features(10)"
   ]
  },
  {
   "cell_type": "markdown",
   "metadata": {},
   "source": [
    "And look at where we're getting errors."
   ]
  },
  {
   "cell_type": "code",
   "execution_count": 25,
   "metadata": {
    "collapsed": false
   },
   "outputs": [
    {
     "name": "stdout",
     "output_type": "stream",
     "text": [
      "correct=male     guess=female   name=Abel                          \n",
      "correct=male     guess=female   name=Aguste                        \n",
      "correct=male     guess=female   name=Ajai                          \n",
      "correct=male     guess=female   name=Aleck                         \n",
      "correct=male     guess=female   name=Alex                          \n",
      "correct=male     guess=female   name=Alf                           \n",
      "correct=male     guess=female   name=Alfonse                       \n",
      "correct=male     guess=female   name=Alfredo                       \n",
      "correct=male     guess=female   name=Algernon                      \n",
      "correct=male     guess=female   name=Ali                           \n",
      "correct=male     guess=female   name=Alister                       \n",
      "correct=male     guess=female   name=Allah                         \n",
      "correct=male     guess=female   name=Alphonso                      \n",
      "correct=male     guess=female   name=Amery                         \n",
      "correct=male     guess=female   name=Amos                          \n",
      "correct=male     guess=female   name=Anatol                        \n",
      "correct=male     guess=female   name=Anatollo                      \n",
      "correct=male     guess=female   name=Anatoly                       \n",
      "correct=male     guess=female   name=Andreas                       \n",
      "correct=male     guess=female   name=Anton                         \n",
      "correct=male     guess=female   name=Antonino                      \n",
      "correct=male     guess=female   name=Antonio                       \n",
      "correct=male     guess=female   name=Archy                         \n",
      "correct=male     guess=female   name=Arie                          \n",
      "correct=male     guess=female   name=Arnie                         \n",
      "correct=male     guess=female   name=Arnold                        \n",
      "correct=male     guess=female   name=Arnoldo                       \n",
      "correct=male     guess=female   name=Aron                          \n",
      "correct=male     guess=female   name=Ashton                        \n",
      "correct=male     guess=female   name=Avery                         \n",
      "correct=male     guess=female   name=Aylmer                        \n",
      "correct=male     guess=female   name=Bailie                        \n",
      "correct=male     guess=female   name=Barde                         \n",
      "correct=male     guess=female   name=Barr                          \n",
      "correct=male     guess=female   name=Bartholomeo                   \n",
      "correct=male     guess=female   name=Basil                         \n",
      "correct=male     guess=female   name=Bayard                        \n",
      "correct=male     guess=female   name=Bear                          \n",
      "correct=male     guess=female   name=Bela                          \n",
      "correct=male     guess=female   name=Ben                           \n",
      "correct=male     guess=female   name=Benson                        \n",
      "correct=male     guess=female   name=Bernd                         \n",
      "correct=male     guess=female   name=Biff                          \n",
      "correct=male     guess=female   name=Blare                         \n",
      "correct=male     guess=female   name=Bobbie                        \n",
      "correct=male     guess=female   name=Boyd                          \n",
      "correct=male     guess=female   name=Brady                         \n",
      "correct=male     guess=female   name=Bret                          \n",
      "correct=male     guess=female   name=Brett                         \n",
      "correct=male     guess=female   name=Broddy                        \n",
      "correct=male     guess=female   name=Brodie                        \n",
      "correct=male     guess=female   name=Bryant                        \n",
      "correct=male     guess=female   name=Buck                          \n",
      "correct=male     guess=female   name=Buddy                         \n",
      "correct=male     guess=female   name=Burke                         \n",
      "correct=male     guess=female   name=Butler                        \n",
      "correct=male     guess=female   name=Cam                           \n",
      "correct=male     guess=female   name=Cary                          \n",
      "correct=male     guess=female   name=Case                          \n",
      "correct=male     guess=female   name=Casey                         \n",
      "correct=male     guess=female   name=Chancey                       \n",
      "correct=male     guess=female   name=Chase                         \n",
      "correct=male     guess=female   name=Che                           \n",
      "correct=male     guess=female   name=Christian                     \n",
      "correct=male     guess=female   name=Christoph                     \n",
      "correct=male     guess=female   name=Claudio                       \n",
      "correct=male     guess=female   name=Claybourne                    \n",
      "correct=male     guess=female   name=Cleveland                     \n",
      "correct=male     guess=female   name=Cob                           \n",
      "correct=male     guess=female   name=Cobb                          \n",
      "correct=male     guess=female   name=Colin                         \n",
      "correct=male     guess=female   name=Connie                        \n",
      "correct=male     guess=female   name=Corky                         \n",
      "correct=male     guess=female   name=Cyrus                         \n",
      "correct=male     guess=female   name=Daffy                         \n",
      "correct=male     guess=female   name=Dane                          \n",
      "correct=male     guess=female   name=Danny                         \n",
      "correct=male     guess=female   name=Darcy                         \n",
      "correct=male     guess=female   name=Dario                         \n",
      "correct=male     guess=female   name=Davidde                       \n",
      "correct=male     guess=female   name=Davin                         \n",
      "correct=male     guess=female   name=Davis                         \n",
      "correct=male     guess=female   name=Dean                          \n",
      "correct=male     guess=female   name=Demetrius                     \n",
      "correct=male     guess=female   name=Derick                        \n",
      "correct=male     guess=female   name=Derrin                        \n",
      "correct=male     guess=female   name=Derron                        \n",
      "correct=male     guess=female   name=Dieter                        \n",
      "correct=male     guess=female   name=Domenico                      \n",
      "correct=male     guess=female   name=Dominick                      \n",
      "correct=male     guess=female   name=Donal                         \n",
      "correct=male     guess=female   name=Dougie                        \n",
      "correct=male     guess=female   name=Doyle                         \n",
      "correct=male     guess=female   name=Duffie                        \n",
      "correct=male     guess=female   name=Dwain                         \n",
      "correct=male     guess=female   name=Dwane                         \n",
      "correct=male     guess=female   name=Dwayne                        \n",
      "correct=male     guess=female   name=Earl                          \n",
      "correct=male     guess=female   name=Eduard                        \n",
      "correct=male     guess=female   name=Eli                           \n",
      "correct=male     guess=female   name=Er                            \n",
      "correct=male     guess=female   name=Erasmus                       \n",
      "correct=male     guess=female   name=Erhart                        \n",
      "correct=male     guess=female   name=Ernesto                       \n",
      "correct=male     guess=female   name=Ethan                         \n",
      "correct=male     guess=female   name=Evan                          \n",
      "correct=male     guess=female   name=Evelyn                        \n",
      "correct=male     guess=female   name=Everett                       \n",
      "correct=male     guess=female   name=Ezechiel                      \n",
      "correct=male     guess=female   name=Federico                      \n",
      "correct=male     guess=female   name=Felipe                        \n",
      "correct=male     guess=female   name=Felix                         \n",
      "correct=male     guess=female   name=Fitz                          \n",
      "correct=male     guess=female   name=Fitzgerald                    \n",
      "correct=male     guess=female   name=Flin                          \n",
      "correct=male     guess=female   name=Fonzie                        \n",
      "correct=male     guess=female   name=Forbes                        \n",
      "correct=male     guess=female   name=Fox                           \n",
      "correct=male     guess=female   name=Friedric                      \n",
      "correct=male     guess=female   name=Fyodor                        \n",
      "correct=male     guess=female   name=Gabriel                       \n",
      "correct=male     guess=female   name=Garfinkel                     \n",
      "correct=male     guess=female   name=Garp                          \n",
      "correct=male     guess=female   name=Garrot                        \n",
      "correct=male     guess=female   name=Garwin                        \n",
      "correct=male     guess=female   name=Gayle                         \n",
      "correct=male     guess=female   name=Gerhardt                      \n",
      "correct=male     guess=female   name=Gerri                         \n",
      "correct=male     guess=female   name=Gerry                         \n",
      "correct=male     guess=female   name=Giacomo                       \n",
      "correct=male     guess=female   name=Giancarlo                     \n",
      "correct=male     guess=female   name=Giffer                        \n",
      "correct=male     guess=female   name=Godfry                        \n",
      "correct=male     guess=female   name=Gordon                        \n",
      "correct=male     guess=female   name=Gregor                        \n",
      "correct=male     guess=female   name=Gregory                       \n",
      "correct=male     guess=female   name=Guido                         \n",
      "correct=male     guess=female   name=Gunter                        \n",
      "correct=male     guess=female   name=Gustaf                        \n",
      "correct=male     guess=female   name=Gustavo                       \n",
      "correct=male     guess=female   name=Hanan                         \n",
      "correct=male     guess=female   name=Hank                          \n",
      "correct=male     guess=female   name=Harland                       \n",
      "correct=male     guess=female   name=Hasheem                       \n",
      "correct=male     guess=female   name=Hayes                         \n",
      "correct=male     guess=female   name=Hermon                        \n",
      "correct=male     guess=female   name=Herrmann                      \n",
      "correct=male     guess=female   name=Herschel                      \n",
      "correct=male     guess=female   name=Hewe                          \n",
      "correct=male     guess=female   name=Higgins                       \n",
      "correct=male     guess=female   name=Holly                         \n",
      "correct=male     guess=female   name=Horace                        \n",
      "correct=male     guess=female   name=Huntington                    \n",
      "correct=male     guess=female   name=Husain                        \n",
      "correct=male     guess=female   name=Ignacio                       \n",
      "correct=male     guess=female   name=Ira                           \n",
      "correct=male     guess=female   name=Izak                          \n",
      "correct=male     guess=female   name=Jae                           \n",
      "correct=male     guess=female   name=James                         \n",
      "correct=male     guess=female   name=Jasper                        \n",
      "correct=male     guess=female   name=Jean                          \n",
      "correct=male     guess=female   name=Jean-Francois                 \n",
      "correct=male     guess=female   name=Jessee                        \n",
      "correct=male     guess=female   name=Jessie                        \n",
      "correct=male     guess=female   name=John-David                    \n",
      "correct=male     guess=female   name=Johnathon                     \n",
      "correct=male     guess=female   name=Johny                         \n",
      "correct=male     guess=female   name=Joseph                        \n",
      "correct=male     guess=female   name=Joshua                        \n",
      "correct=male     guess=female   name=Judas                         \n",
      "correct=male     guess=female   name=Julian                        \n",
      "correct=male     guess=female   name=Kane                          \n",
      "correct=male     guess=female   name=Karel                         \n",
      "correct=male     guess=female   name=Kellen                        \n",
      "correct=male     guess=female   name=Kent                          \n",
      "correct=male     guess=female   name=Kenyon                        \n",
      "correct=male     guess=female   name=Kermie                        \n",
      "correct=male     guess=female   name=Kim                           \n",
      "correct=male     guess=female   name=Kimmo                         \n",
      "correct=male     guess=female   name=Kingston                      \n",
      "correct=male     guess=female   name=Kirk                          \n",
      "correct=male     guess=female   name=Kostas                        \n",
      "correct=male     guess=female   name=Lamar                         \n",
      "correct=male     guess=female   name=Lamont                        \n",
      "correct=male     guess=female   name=Larry                         \n",
      "correct=male     guess=female   name=Laurent                       \n",
      "correct=male     guess=female   name=Lawerence                     \n",
      "correct=male     guess=female   name=Lazare                        \n",
      "correct=male     guess=female   name=Leighton                      \n",
      "correct=male     guess=female   name=Lemar                         \n",
      "correct=male     guess=female   name=Lennie                        \n",
      "correct=male     guess=female   name=Leslie                        \n",
      "correct=male     guess=female   name=Llewellyn                     \n",
      "correct=male     guess=female   name=Lockwood                      \n",
      "correct=male     guess=female   name=Louis                         \n",
      "correct=male     guess=female   name=Luce                          \n",
      "correct=male     guess=female   name=Lucien                        \n",
      "correct=male     guess=female   name=Lucius                        \n",
      "correct=male     guess=female   name=Lynn                          \n",
      "correct=male     guess=female   name=Mahmoud                       \n",
      "correct=male     guess=female   name=Maison                        \n",
      "correct=male     guess=female   name=Marlow                        \n",
      "correct=male     guess=female   name=Marsh                         \n",
      "correct=male     guess=female   name=Martainn                      \n",
      "correct=male     guess=female   name=Martie                        \n",
      "correct=male     guess=female   name=Maurise                       \n",
      "correct=male     guess=female   name=Maurits                       \n",
      "correct=male     guess=female   name=Maxwell                       \n",
      "correct=male     guess=female   name=Meir                          \n",
      "correct=male     guess=female   name=Merrel                        \n",
      "correct=male     guess=female   name=Merrill                       \n",
      "correct=male     guess=female   name=Mikael                        \n",
      "correct=male     guess=female   name=Mikhail                       \n",
      "correct=male     guess=female   name=Mitchel                       \n",
      "correct=male     guess=female   name=Moss                          \n",
      "correct=male     guess=female   name=Nahum                         \n",
      "correct=male     guess=female   name=Nathanial                     \n",
      "correct=male     guess=female   name=Neil                          \n",
      "correct=male     guess=female   name=Nevin                         \n",
      "correct=male     guess=female   name=Nevins                        \n",
      "correct=male     guess=female   name=Nickey                        \n",
      "correct=male     guess=female   name=Nikki                         \n",
      "correct=male     guess=female   name=Noam                          \n",
      "correct=male     guess=female   name=Noe                           \n",
      "correct=male     guess=female   name=Norwood                       \n",
      "correct=male     guess=female   name=Nunzio                        \n",
      "correct=male     guess=female   name=Odysseus                      \n",
      "correct=male     guess=female   name=Ole                           \n",
      "correct=male     guess=female   name=Orazio                        \n",
      "correct=male     guess=female   name=Orin                          \n",
      "correct=male     guess=female   name=Osborn                        \n",
      "correct=male     guess=female   name=Oswald                        \n",
      "correct=male     guess=female   name=Otes                          \n",
      "correct=male     guess=female   name=Pace                          \n",
      "correct=male     guess=female   name=Page                          \n",
      "correct=male     guess=female   name=Pascale                       \n",
      "correct=male     guess=female   name=Patric                        \n",
      "correct=male     guess=female   name=Peter                         \n",
      "correct=male     guess=female   name=Petr                          \n",
      "correct=male     guess=female   name=Peyter                        \n",
      "correct=male     guess=female   name=Phil                          \n",
      "correct=male     guess=female   name=Pincus                        \n",
      "correct=male     guess=female   name=Quigman                       \n",
      "correct=male     guess=female   name=Rajeev                        \n",
      "correct=male     guess=female   name=Ralf                          \n",
      "correct=male     guess=female   name=Ram                           \n",
      "correct=male     guess=female   name=Ramon                         \n",
      "correct=male     guess=female   name=Ravi                          \n",
      "correct=male     guess=female   name=Reece                         \n",
      "correct=male     guess=female   name=Regen                         \n",
      "correct=male     guess=female   name=Reid                          \n",
      "correct=male     guess=female   name=Renado                        \n",
      "correct=male     guess=female   name=Renard                        \n",
      "correct=male     guess=female   name=Renato                        \n",
      "correct=male     guess=female   name=Renaud                        \n",
      "correct=male     guess=female   name=Reuven                        \n",
      "correct=male     guess=female   name=Rey                           \n",
      "correct=male     guess=female   name=Rice                          \n",
      "correct=male     guess=female   name=Robbert                       \n",
      "correct=male     guess=female   name=Roberto                       \n",
      "correct=male     guess=female   name=Rockwell                      \n",
      "correct=male     guess=female   name=Rod                           \n",
      "correct=male     guess=female   name=Roderich                      \n",
      "correct=male     guess=female   name=Roland                        \n",
      "correct=male     guess=female   name=Rolf                          \n",
      "correct=male     guess=female   name=Rollin                        \n",
      "correct=male     guess=female   name=Ronny                         \n",
      "correct=male     guess=female   name=Ross                          \n",
      "correct=male     guess=female   name=Rube                          \n",
      "correct=male     guess=female   name=Rudolf                        \n",
      "correct=male     guess=female   name=Rufus                         \n",
      "correct=male     guess=female   name=Rutger                        \n",
      "correct=male     guess=female   name=Salmon                        \n",
      "correct=male     guess=female   name=Sammy                         \n",
      "correct=male     guess=female   name=Saunders                      \n",
      "correct=male     guess=female   name=Saxon                         \n",
      "correct=male     guess=female   name=Scottie                       \n",
      "correct=male     guess=female   name=Shea                          \n",
      "correct=male     guess=female   name=Sheldon                       \n",
      "correct=male     guess=female   name=Sherlock                      \n",
      "correct=male     guess=female   name=Sherlocke                     \n",
      "correct=male     guess=female   name=Sherman                       \n",
      "correct=male     guess=female   name=Sholom                        \n",
      "correct=male     guess=female   name=Shurlock                      \n",
      "correct=male     guess=female   name=Silvio                        \n",
      "correct=male     guess=female   name=Sinclair                      \n",
      "correct=male     guess=female   name=Siward                        \n",
      "correct=male     guess=female   name=Skippie                       \n",
      "correct=male     guess=female   name=Sloane                        \n",
      "correct=male     guess=female   name=Smith                         \n",
      "correct=male     guess=female   name=Son                           \n",
      "correct=male     guess=female   name=Standford                     \n",
      "correct=male     guess=female   name=Stevy                         \n",
      "correct=male     guess=female   name=Taddeus                       \n",
      "correct=male     guess=female   name=Tait                          \n",
      "correct=male     guess=female   name=Tallie                        \n",
      "correct=male     guess=female   name=Tammie                        \n",
      "correct=male     guess=female   name=Tammy                         \n",
      "correct=male     guess=female   name=Tannie                        \n",
      "correct=male     guess=female   name=Tarrance                      \n",
      "correct=male     guess=female   name=Tarzan                        \n",
      "correct=male     guess=female   name=Terrence                      \n",
      "correct=male     guess=female   name=Thacher                       \n",
      "correct=male     guess=female   name=Thaine                        \n",
      "correct=male     guess=female   name=Thom                          \n",
      "correct=male     guess=female   name=Thornie                       \n",
      "correct=male     guess=female   name=Thurstan                      \n",
      "correct=male     guess=female   name=Tirrell                       \n",
      "correct=male     guess=female   name=Tome                          \n",
      "correct=male     guess=female   name=Tristan                       \n",
      "correct=male     guess=female   name=Truman                        \n",
      "correct=male     guess=female   name=Tucky                         \n",
      "correct=male     guess=female   name=Tynan                         \n",
      "correct=male     guess=female   name=Ulberto                       \n",
      "correct=male     guess=female   name=Uli                           \n",
      "correct=male     guess=female   name=Valentine                     \n",
      "correct=male     guess=female   name=Vasilis                       \n",
      "correct=male     guess=female   name=Verge                         \n",
      "correct=male     guess=female   name=Vergil                        \n",
      "correct=male     guess=female   name=Vibhu                         \n",
      "correct=male     guess=female   name=Victor                        \n",
      "correct=male     guess=female   name=Vinny                         \n",
      "correct=male     guess=female   name=Wadsworth                     \n",
      "correct=male     guess=female   name=Waite                         \n",
      "correct=male     guess=female   name=Walker                        \n",
      "correct=male     guess=female   name=Wallis                        \n",
      "correct=male     guess=female   name=Wally                         \n",
      "correct=male     guess=female   name=Walton                        \n",
      "correct=male     guess=female   name=Waring                        \n",
      "correct=male     guess=female   name=Wash                          \n",
      "correct=male     guess=female   name=Waverley                      \n",
      "correct=male     guess=female   name=Way                           \n",
      "correct=male     guess=female   name=Waylon                        \n",
      "correct=male     guess=female   name=Weider                        \n",
      "correct=male     guess=female   name=Wendell                       \n",
      "correct=male     guess=female   name=Wesley                        \n",
      "correct=male     guess=female   name=Westbrook                     \n",
      "correct=male     guess=female   name=Wilmar                        \n",
      "correct=male     guess=female   name=Wilton                        \n",
      "correct=male     guess=female   name=Winslow                       \n",
      "correct=male     guess=female   name=Worthington                   \n",
      "correct=male     guess=female   name=Yancy                         \n",
      "correct=male     guess=female   name=Yardley                       \n",
      "correct=male     guess=female   name=Zachariah                     \n",
      "correct=male     guess=female   name=Zackariah                     \n",
      "correct=male     guess=female   name=Zared                         \n"
     ]
    }
   ],
   "source": [
    "errors = []\n",
    "for (name, tag) in devtest_names:\n",
    "    guess = classifier.classify(gender_features(name))\n",
    "    if guess != tag:\n",
    "        errors.append( (tag, guess, name) )\n",
    "\n",
    "for (tag, guess, name) in sorted(errors):\n",
    "    print('correct={:<8} guess={:<8s} name={:<30}'.format(tag, guess, name))"
   ]
  },
  {
   "cell_type": "markdown",
   "metadata": {},
   "source": [
    "Now you'll refine `gender_features_2`. Go through the errors above, try new rules. Can you come up with any that drammatically increase the accuracy of your classifer? You should be able to get this above 82% accuracy with some experimentation. What's the highest value you can get? \n",
    "\n",
    "--- \n",
    "\n",
    "Once you're done tweaking your code or we're out of time, get your final accuracy measure against the test set. In order to have an unbiased estimate of your error, you need to do this once at the end of your development cycle. "
   ]
  },
  {
   "cell_type": "code",
   "execution_count": null,
   "metadata": {
    "collapsed": false
   },
   "outputs": [],
   "source": [
    "# Once you're done tweaking your code, run this one. \n",
    "print(nltk.classify.accuracy(classifier, test_set))"
   ]
  }
 ],
 "metadata": {
  "kernelspec": {
   "display_name": "Python 3",
   "language": "python",
   "name": "python3"
  },
  "language_info": {
   "codemirror_mode": {
    "name": "ipython",
    "version": 3
   },
   "file_extension": ".py",
   "mimetype": "text/x-python",
   "name": "python",
   "nbconvert_exporter": "python",
   "pygments_lexer": "ipython3",
   "version": "3.6.6"
  }
 },
 "nbformat": 4,
 "nbformat_minor": 0
}
