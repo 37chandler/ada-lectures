{
 "cells": [
  {
   "cell_type": "markdown",
   "metadata": {},
   "source": [
    "## Exploring Congressional Candidate Tweets\n",
    "\n",
    "Let's look at congressional candidate tweets via NB. This notebook should help you get started."
   ]
  },
  {
   "cell_type": "code",
   "execution_count": 1,
   "metadata": {
    "collapsed": true
   },
   "outputs": [],
   "source": [
    "import nltk\n",
    "import random\n",
    "from string import punctuation\n",
    "from pprint import pprint\n",
    "import sqlite3\n",
    "from collections import defaultdict, Counter"
   ]
  },
  {
   "cell_type": "code",
   "execution_count": 2,
   "metadata": {
    "collapsed": true
   },
   "outputs": [],
   "source": [
    "# Link up to congressional candidate DB\n",
    "db = sqlite3.connect(\"C:\\\\Users\\\\jchan\\\\Dropbox\\\\Teaching\\\\AppliedDataAnalytics\\\\ada-master\\\\congressional-candidates\\\\\" + \n",
    "                      \"congressional_data.db\")\n",
    "\n",
    "#db = sqlite3.connect(\"congressional_data.db\")\n",
    "\n",
    "\n",
    "cur = db.cursor()"
   ]
  },
  {
   "cell_type": "code",
   "execution_count": 5,
   "metadata": {
    "collapsed": false
   },
   "outputs": [
    {
     "data": {
      "text/plain": [
       "<sqlite3.Cursor at 0x13a5dc2ac70>"
      ]
     },
     "execution_count": 5,
     "metadata": {},
     "output_type": "execute_result"
    }
   ],
   "source": [
    "cur.execute(\"\"\"SELECT t.candidate, c.party, t.tweet_text \n",
    "               FROM tweets t\n",
    "               INNER JOIN candidate_data c on c.candidate=t.candidate\"\"\")"
   ]
  },
  {
   "cell_type": "code",
   "execution_count": 6,
   "metadata": {
    "collapsed": false
   },
   "outputs": [
    {
     "name": "stdout",
     "output_type": "stream",
     "text": [
      "We have 1388734 tweets.\n"
     ]
    }
   ],
   "source": [
    "num_tweets = 0\n",
    "\n",
    "d = defaultdict(lambda: defaultdict(list))\n",
    "for row in cur.fetchall() :\n",
    "    cand, party, text = row\n",
    "    d[cand][party].append(text)\n",
    "    num_tweets += 1\n",
    "    \n",
    "print(\"We have {} tweets.\".format(num_tweets))\n",
    "    "
   ]
  },
  {
   "cell_type": "code",
   "execution_count": null,
   "metadata": {
    "collapsed": true
   },
   "outputs": [],
   "source": [
    "def tweet_features(the_tweet) :\n",
    "    \"\"\" \n",
    "        Input: A tweet\n",
    "        Output: A dictionary with features you think might classify\n",
    "                the tweet. These could be words or something \n",
    "                else. \n",
    "                \n",
    "        Don't forget to consider some data cleaning in your \n",
    "        tokenization process. Whitespace, stopwords, punctuation,\n",
    "        etc.\n",
    "    \n",
    "        \"\"\"\n",
    "    pass"
   ]
  },
  {
   "cell_type": "markdown",
   "metadata": {},
   "source": [
    "Okay, now build a classifier!"
   ]
  }
 ],
 "metadata": {
  "kernelspec": {
   "display_name": "Python 3",
   "language": "python",
   "name": "python3"
  },
  "language_info": {
   "codemirror_mode": {
    "name": "ipython",
    "version": 3
   },
   "file_extension": ".py",
   "mimetype": "text/x-python",
   "name": "python",
   "nbconvert_exporter": "python",
   "pygments_lexer": "ipython3",
   "version": "3.6.6"
  }
 },
 "nbformat": 4,
 "nbformat_minor": 2
}
