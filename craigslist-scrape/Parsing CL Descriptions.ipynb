{
 "cells": [
  {
   "cell_type": "markdown",
   "metadata": {},
   "source": [
    "## Parsing CL Descriptions\n",
    "\n",
    "In this notebook, we'll play around with parsing Craigslist descriptions and try to improve the quality of our data. "
   ]
  },
  {
   "cell_type": "code",
   "execution_count": 1,
   "metadata": {
    "collapsed": true
   },
   "outputs": [],
   "source": [
    "import sqlite3\n",
    "import nltk\n",
    "import json\n",
    "from collections import defaultdict\n",
    "\n",
    "makes_file = \"allMakes.txt\"\n",
    "\n",
    "db = sqlite3.connect(\"car_data.db\")\n",
    "cur = db.cursor()\n"
   ]
  },
  {
   "cell_type": "markdown",
   "metadata": {},
   "source": [
    "The following code loads the json in the makes file."
   ]
  },
  {
   "cell_type": "code",
   "execution_count": 2,
   "metadata": {
    "collapsed": true
   },
   "outputs": [],
   "source": [
    "def populate_mmy(working_dir,\n",
    "                 make_model_file) :\n",
    "    \"\"\"\n",
    "     Populates a dictionary make_model_year. \n",
    "    \"\"\"\n",
    "  \n",
    "    mm = json.loads(open(working_dir + make_model_file).read())['makes']\n",
    "\n",
    "    make_model_year = defaultdict(lambda: defaultdict(list))\n",
    "  \n",
    "    for item in mm :\n",
    "        for mod in item['models'] :\n",
    "            for yr in mod['years'] :\n",
    "                make_model_year[item['name'].lower()][mod['name'].lower()].append(yr['year'])\n",
    "\n",
    "    return(make_model_year)          "
   ]
  },
  {
   "cell_type": "code",
   "execution_count": 3,
   "metadata": {
    "collapsed": false
   },
   "outputs": [],
   "source": [
    "mmy = populate_mmy(\"\",makes_file)"
   ]
  },
  {
   "cell_type": "code",
   "execution_count": 4,
   "metadata": {
    "collapsed": false
   },
   "outputs": [
    {
     "name": "stdout",
     "output_type": "stream",
     "text": [
      "b9 tribeca\n",
      "brz\n",
      "baja\n",
      "crosstrek\n",
      "forester\n",
      "impreza\n",
      "impreza wrx\n",
      "justy\n",
      "legacy\n",
      "loyale\n",
      "outback\n",
      "svx\n",
      "tribeca\n",
      "wrx\n",
      "xt\n",
      "xv crosstrek\n"
     ]
    }
   ],
   "source": [
    "for model in mmy['subaru'] :\n",
    "    print(model)"
   ]
  },
  {
   "cell_type": "markdown",
   "metadata": {},
   "source": [
    "Let's pull all the descriptions from our database."
   ]
  },
  {
   "cell_type": "code",
   "execution_count": null,
   "metadata": {
    "collapsed": true
   },
   "outputs": [],
   "source": [
    "cur.execute(\"\"\"SELECT posting_body_text FROM listing_data\"\"\")\n",
    "\n",
    "descs = [d[0] for d in cur.fetchall()]"
   ]
  },
  {
   "cell_type": "code",
   "execution_count": null,
   "metadata": {
    "collapsed": false
   },
   "outputs": [],
   "source": [
    "descs[:5]"
   ]
  },
  {
   "cell_type": "markdown",
   "metadata": {},
   "source": [
    "Now use the tools from the Tokens/Stemming/Ngrams notebook to explore this data: \n",
    "\n",
    "* Look at the most common words. \n",
    "* Can you find issues with data quality? \n",
    "* Try to write a function that takes a description and returns an estimate on whether or not the data look \"fishy\". The `mmy` object might be helpful. "
   ]
  },
  {
   "cell_type": "code",
   "execution_count": null,
   "metadata": {
    "collapsed": true
   },
   "outputs": [],
   "source": [
    "# your code here. "
   ]
  }
 ],
 "metadata": {
  "kernelspec": {
   "display_name": "Python 3",
   "language": "python",
   "name": "python3"
  },
  "language_info": {
   "codemirror_mode": {
    "name": "ipython",
    "version": 3
   },
   "file_extension": ".py",
   "mimetype": "text/x-python",
   "name": "python",
   "nbconvert_exporter": "python",
   "pygments_lexer": "ipython3",
   "version": "3.6.6"
  }
 },
 "nbformat": 4,
 "nbformat_minor": 2
}
